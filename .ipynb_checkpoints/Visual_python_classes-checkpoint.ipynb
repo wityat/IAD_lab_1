{
 "cells": [
  {
   "cell_type": "markdown",
   "metadata": {},
   "source": [
    "# <center> Майнор \"Интеллектуальный анализ данных\" </center>"
   ]
  },
  {
   "cell_type": "markdown",
   "metadata": {},
   "source": [
    "# <center> Курс \"Введение в программирование\" </center>"
   ]
  },
  {
   "cell_type": "markdown",
   "metadata": {},
   "source": [
    "# <center> Визуализация и первичный анализ данных </center>"
   ]
  },
  {
   "cell_type": "markdown",
   "metadata": {},
   "source": [
    "## Table of contents\n",
    "\n",
    "1. [Links](#links)\n",
    "2. [Визуализация в Python](#vis)\n",
    "    1. [Визуализация динамики](#dynamics)\n",
    "    2. [Распределение дискретных признаков](#discrete)\n",
    "    3. [Распределение непрерывных признаков](#contin)\n",
    "        1. [Гистограмма](#hist)\n",
    "        2. [Boxplot](#boxplot)\n",
    "    4. [Визуализация зависимости](#depend)\n",
    "        1. [Scatterplot](#scatter)\n",
    "        2. [Heatmap](#heat)\n",
    "    5. [Несколько графиков на одном](#subplot)\n",
    "    6. [Сохранение изображения](#save)\n",
    "    7. [Подписи осей](#labels)"
   ]
  },
  {
   "cell_type": "markdown",
   "metadata": {},
   "source": [
    "## Links <a name=\"links\"></a>\n",
    "\n",
    " - [Вторая статья](https://habrahabr.ru/company/ods/blog/323210/) из открытого курса ODS по машинному обучению, посвященная визуализации<br><br>\n",
    " - [Глава](https://pandas.pydata.org/pandas-docs/stable/visualization.html#) про визуализацию в Pandas в документации библиотеки<br><br>\n",
    " - [Официальный сайт](https://seaborn.pydata.org/index.html) seaborn, на котором есть документация, тьюториалы и галерея графиков<br><br>\n",
    " - Неплохой [тьюториал](https://elitedatascience.com/python-seaborn-tutorial) по seaborn<br><br>\n",
    " - [Галерея](https://python-graph-gallery.com) разнообразных графиков на python с кодом. В частности, небольшой [список](https://python-graph-gallery.com/bad-chart/) ошибок при визуализации и примеры, как их можно избежать<br><br> "
   ]
  },
  {
   "cell_type": "markdown",
   "metadata": {},
   "source": [
    "## Визуализация в Python <a name=\"vis\"></a>"
   ]
  },
  {
   "cell_type": "markdown",
   "metadata": {},
   "source": [
    "Сначала выполним все необходимые настройки и подключим библиотеки.  \n",
    "Для визуализации мы будем использовать: \n",
    " - функционал Pandas - обертка над matplotlib;\n",
    " - библиотеку `seaborn` - также надстройка над matplotlib, предоставляющая более приятный интерфейс;\n",
    " - библиотеку matplotlib"
   ]
  },
  {
   "cell_type": "code",
   "execution_count": null,
   "metadata": {},
   "outputs": [],
   "source": [
    "import numpy as np\n",
    "import pandas as pd\n",
    "\n",
    "# будем отображать графики прямо в jupyter'e\n",
    "%matplotlib inline\n",
    "import matplotlib.pyplot as plt\n",
    "import seaborn as sns\n",
    "\n",
    "# стиль seaborn\n",
    "# style.available выводит все доступные стили\n",
    "from matplotlib import style\n",
    "style.use('seaborn')\n",
    "\n",
    "#графики в svg выглядят более четкими\n",
    "%config InlineBackend.figure_format = 'svg' "
   ]
  },
  {
   "cell_type": "code",
   "execution_count": null,
   "metadata": {},
   "outputs": [],
   "source": [
    "# увеличим дефолтный размер графиков\n",
    "from matplotlib import rcParams\n",
    "rcParams['figure.figsize'] = [8, 5]"
   ]
  },
  {
   "cell_type": "code",
   "execution_count": null,
   "metadata": {},
   "outputs": [],
   "source": [
    "# отключим предупреждения Anaconda\n",
    "import warnings\n",
    "warnings.simplefilter('ignore')"
   ]
  },
  {
   "cell_type": "markdown",
   "metadata": {},
   "source": [
    "Будем практиковаться на наборе данных о продажах и оценках видеоигр: [Kaggle Dataset](https://www.kaggle.com/rush4ratio/video-game-sales-with-ratings).  \n",
    "  \n",
    "Описание с источника:   \n",
    "Alongside the fields: Name, Platform, Year_of_Release, Genre, Publisher, NA_Sales, EU_Sales, JP_Sales, Other_Sales, Global_Sales, we have: \n",
    "- Critic_score - Aggregate score compiled by Metacritic staff\n",
    "- Critic_count - The number of critics used in coming up with the Critic_score\n",
    "- User_score - Score by Metacritic's subscribers\n",
    "- User_count - Number of users who gave the user_score\n",
    "- Developer - Party responsible for creating the game\n",
    "- Rating - The [ESRB](https://www.esrb.org/) ratings  \n",
    "  \n",
    "Загрузим данные, определим размерность и посмотрим на сами данные"
   ]
  },
  {
   "cell_type": "code",
   "execution_count": null,
   "metadata": {},
   "outputs": [],
   "source": [
    "df = pd.read_csv(\"video_games_sales.csv\")"
   ]
  },
  {
   "cell_type": "code",
   "execution_count": null,
   "metadata": {},
   "outputs": [],
   "source": [
    "df.shape"
   ]
  },
  {
   "cell_type": "code",
   "execution_count": null,
   "metadata": {},
   "outputs": [],
   "source": [
    "df.head()"
   ]
  },
  {
   "cell_type": "code",
   "execution_count": null,
   "metadata": {},
   "outputs": [],
   "source": [
    "df.info()"
   ]
  },
  {
   "cell_type": "markdown",
   "metadata": {},
   "source": [
    "Первое, что бросается в глаза - пропуски в данных (`NaN` в ячейках).  \n",
    "Видно, что пропуски присутствуют в половине признаков. Для простоты удалим такие наблюдения."
   ]
  },
  {
   "cell_type": "code",
   "execution_count": null,
   "metadata": {},
   "outputs": [],
   "source": [
    "df = df.dropna()"
   ]
  },
  {
   "cell_type": "code",
   "execution_count": null,
   "metadata": {},
   "outputs": [],
   "source": [
    "df.info()"
   ]
  },
  {
   "cell_type": "markdown",
   "metadata": {},
   "source": [
    "Объем данных заметно уменьшился.  \n",
    "Теперь посмотрим на количество уникальных игр в датасете.  \n",
    "Спойлер: их заметно меньше, чем число наблюдений. Сразу найдем все игры, которые встречаются более одного раза, и посмотрим на одну из них в качестве примера."
   ]
  },
  {
   "cell_type": "code",
   "execution_count": null,
   "metadata": {},
   "outputs": [],
   "source": [
    "df.Name.nunique()"
   ]
  },
  {
   "cell_type": "code",
   "execution_count": null,
   "metadata": {},
   "outputs": [],
   "source": [
    "names = df.Name.value_counts()\n",
    "names[names > 1]"
   ]
  },
  {
   "cell_type": "code",
   "execution_count": null,
   "metadata": {
    "scrolled": false
   },
   "outputs": [],
   "source": [
    "df[df.Name == 'Need for Speed: Most Wanted']"
   ]
  },
  {
   "cell_type": "markdown",
   "metadata": {},
   "source": [
    "Судя по данным, одна и та же игра может быть представлена на различных платформах, и также могут быть перезапуски (более поздний год).  \n",
    "  \n",
    "Поменяем типы некоторых признаков перед основной работой, т.к. при чтении они были определены неверно с нашей точки зрения."
   ]
  },
  {
   "cell_type": "code",
   "execution_count": null,
   "metadata": {},
   "outputs": [],
   "source": [
    "df.info()"
   ]
  },
  {
   "cell_type": "code",
   "execution_count": null,
   "metadata": {},
   "outputs": [],
   "source": [
    "df['User_Score'] = df.User_Score.astype('float64')\n",
    "df['Year_of_Release'] = df.Year_of_Release.astype('int64')\n",
    "df['User_Count'] = df.User_Count.astype('int64')\n",
    "df['Critic_Count'] = df.Critic_Count.astype('int64')"
   ]
  },
  {
   "cell_type": "code",
   "execution_count": null,
   "metadata": {},
   "outputs": [],
   "source": [
    "df.describe()"
   ]
  },
  {
   "cell_type": "code",
   "execution_count": null,
   "metadata": {},
   "outputs": [],
   "source": [
    "df.describe(include=['object'])"
   ]
  },
  {
   "cell_type": "markdown",
   "metadata": {},
   "source": [
    "### Визуализация динамики <a name=\"dynamics\"></a>"
   ]
  },
  {
   "cell_type": "markdown",
   "metadata": {},
   "source": [
    "Для визуализации динамики лучше всего подходит стандартный `lineplot`.  \n",
    "Метод `plot()` в Pandas строит график для каждого столбца, разделяя их по цветам, и добавляет легенду. Удобно. "
   ]
  },
  {
   "cell_type": "code",
   "execution_count": null,
   "metadata": {},
   "outputs": [],
   "source": [
    "# Просто все признаки, отвечающие за продажи\n",
    "# В данном случае, они содержат в имени Sales\n",
    "[x for x in df.columns if 'Sales' in x]"
   ]
  },
  {
   "cell_type": "code",
   "execution_count": null,
   "metadata": {},
   "outputs": [],
   "source": [
    "sales_df = df[[x for x in df.columns if 'Sales' in x] + ['Year_of_Release']]\n",
    "sales_df.groupby('Year_of_Release').sum().plot()\n",
    "plt.show()"
   ]
  },
  {
   "cell_type": "markdown",
   "metadata": {},
   "source": [
    "Если признаков много, на одном графике они могут смешаться в кучу и получится `spaghetti plot`, на котором очень сложно что-то увидеть.  В таких случаях имеет смысл отобразить каждый признак на отдельном подграфе.  "
   ]
  },
  {
   "cell_type": "code",
   "execution_count": null,
   "metadata": {
    "scrolled": false
   },
   "outputs": [],
   "source": [
    "sales_df.groupby('Year_of_Release').sum().plot(subplots=True, \n",
    "                                               layout=(3, 2), \n",
    "                                               sharex=True, \n",
    "                                               sharey=True,\n",
    "                                               figsize=(12,8),\n",
    "                                               linestyle='-', \n",
    "                                               marker='o')\n",
    "plt.show()"
   ]
  },
  {
   "cell_type": "markdown",
   "metadata": {},
   "source": [
    "### Задание"
   ]
  },
  {
   "cell_type": "markdown",
   "metadata": {},
   "source": [
    "**Постройте график или несколько, показывающий число игр, выпущенных в каждый год в общем и с разбивкой:**  \n",
    "  \n",
    "&nbsp;&nbsp;&nbsp;&nbsp;**- по жанру**  \n",
    "&nbsp;&nbsp;&nbsp;&nbsp;**- по возрастному рейтингу**"
   ]
  },
  {
   "cell_type": "code",
   "execution_count": null,
   "metadata": {},
   "outputs": [],
   "source": [
    "# ваш код здесь\n",
    "\n"
   ]
  },
  {
   "cell_type": "markdown",
   "metadata": {},
   "source": [
    "### Задание"
   ]
  },
  {
   "cell_type": "markdown",
   "metadata": {},
   "source": [
    "**Провизуализируйте динамику по годам средней оценки пользователей в общем и с разбивкой:**  \n",
    "  \n",
    "&nbsp;&nbsp;&nbsp;&nbsp;**- по жанру**  \n",
    "&nbsp;&nbsp;&nbsp;&nbsp;**- по возрастному рейтингу**"
   ]
  },
  {
   "cell_type": "code",
   "execution_count": null,
   "metadata": {},
   "outputs": [],
   "source": [
    "# ваш код здесь\n",
    "\n"
   ]
  },
  {
   "cell_type": "markdown",
   "metadata": {},
   "source": [
    "### Распределение дискретных признаков <a name=\"discrete\"></a>"
   ]
  },
  {
   "cell_type": "markdown",
   "metadata": {},
   "source": [
    "Для визуализации распределения категориальных признаков хорошо подходит `barplot`. По сути, для каждой категории он строит столбик (bar) высотой равной количеству наблюдений, в которых это значение встретилось. "
   ]
  },
  {
   "cell_type": "code",
   "execution_count": null,
   "metadata": {},
   "outputs": [],
   "source": [
    "# rot отвечает за угол наклона подписей значений на оси x\n",
    "df.Genre.value_counts().plot(kind='bar', rot=45) \n",
    "plt.show()"
   ]
  },
  {
   "cell_type": "markdown",
   "metadata": {},
   "source": [
    "Вместо bar'ов можно построить `lollipop plot`."
   ]
  },
  {
   "cell_type": "code",
   "execution_count": null,
   "metadata": {},
   "outputs": [],
   "source": [
    "n_obs = df.Genre.value_counts()\n",
    "genres = n_obs.index.values\n",
    "plt.stem(n_obs)\n",
    "plt.xticks(range(len(genres)), genres, rotation=45)\n",
    "plt.show()"
   ]
  },
  {
   "cell_type": "markdown",
   "metadata": {},
   "source": [
    "Популярной альтернативой `barplot` является `pieplot`. Однако этот тип графика скорее вреден, т.к. он искажает представление о соотношении долей категорий (так говорят). В данном случае еще и цвета у категорий совпадают."
   ]
  },
  {
   "cell_type": "code",
   "execution_count": null,
   "metadata": {},
   "outputs": [],
   "source": [
    "df.Genre.value_counts().plot(kind='pie')\n",
    "plt.show()"
   ]
  },
  {
   "cell_type": "markdown",
   "metadata": {},
   "source": [
    "Можно немного модифицировать график, превратив его в `doughnut plot`. Стало немного лучше, но кардинально ничего не изменилось.  \n",
    "  \n",
    "В общем, посыл такой - не использовать `pieplot` и его вариации."
   ]
  },
  {
   "cell_type": "code",
   "execution_count": null,
   "metadata": {},
   "outputs": [],
   "source": [
    "df.Genre.value_counts().plot(kind='pie')\n",
    "plt.gcf().gca().add_artist(plt.Circle((0,0), 0.7, color='white'))\n",
    "plt.show()"
   ]
  },
  {
   "cell_type": "markdown",
   "metadata": {},
   "source": [
    "Очень удобное свойство `barplot` - на графике можно посмотреть распределение сразу по нескольким признакам. Ниже в примере показаны продажи для каждого жанра. "
   ]
  },
  {
   "cell_type": "code",
   "execution_count": null,
   "metadata": {},
   "outputs": [],
   "source": [
    "df[[x for x in df.columns if 'Sales' in x] + ['Genre']].groupby('Genre').sum().plot(kind='bar', rot=45)\n",
    "plt.show()"
   ]
  },
  {
   "cell_type": "markdown",
   "metadata": {},
   "source": [
    "В таком виде анализировать график тяжело. Как и в случае с `lineplot`, удобнее разбить его на несколько графиков.  \n",
    "В таком виде информация представлена нагляднее. Например, можно сразу заметить, что продажи по жанрам распределены примерно одинаково везде, кроме Японии - там проявляют особый интерес к RPG и не любят шутеры."
   ]
  },
  {
   "cell_type": "code",
   "execution_count": null,
   "metadata": {},
   "outputs": [],
   "source": [
    "df[[x for x in df.columns if 'Sales' in x] + ['Genre']].groupby('Genre').sum().plot(subplots=True, \n",
    "                                                                                    layout=(3, 2), \n",
    "                                                                                    kind='bar', \n",
    "                                                                                    rot = 45,\n",
    "                                                                                    figsize=(12,8))\n",
    "plt.show()"
   ]
  },
  {
   "cell_type": "markdown",
   "metadata": {},
   "source": [
    "С помощью метода `transpose()`  можно транспонировать датафрейм, т.е. поменять местами оси."
   ]
  },
  {
   "cell_type": "code",
   "execution_count": null,
   "metadata": {},
   "outputs": [],
   "source": [
    "df[[x for x in df.columns if 'Sales' in x] + \n",
    "   ['Genre']].groupby('Genre').sum().transpose().plot(subplots=True, \n",
    "                                                      layout=(6, 2), \n",
    "                                                      kind='bar', \n",
    "                                                      rot = 45,\n",
    "                                                      figsize=(12,8))\n",
    "plt.show()"
   ]
  },
  {
   "cell_type": "markdown",
   "metadata": {},
   "source": [
    "Для построения `barplot`  мы использовали посчитанные значения для каждой категории. Фактически, мы передавали методу `plot()` индексированный массив.  \n",
    "  \n",
    "Функции `countplot()` и `factorplot()` из библиотеки seaborn позволяют передавать им обычный набор данных, и берут на себя подсчет числа наблюдений для каждой категории.  \n",
    "Для примера посмотрим на число наблюдений с пропущенными значениями в зависимости от жанра или платформы."
   ]
  },
  {
   "cell_type": "code",
   "execution_count": null,
   "metadata": {},
   "outputs": [],
   "source": [
    "df_orig = pd.read_csv(\"video_games_sales.csv\")"
   ]
  },
  {
   "cell_type": "code",
   "execution_count": null,
   "metadata": {},
   "outputs": [],
   "source": [
    "print(sum(pd.isna(df_orig.Genre)))\n",
    "print(sum(pd.isna(df_orig.Name)))"
   ]
  },
  {
   "cell_type": "code",
   "execution_count": null,
   "metadata": {},
   "outputs": [],
   "source": [
    "df_orig[pd.isnull(df_orig.Name)]"
   ]
  },
  {
   "cell_type": "code",
   "execution_count": null,
   "metadata": {},
   "outputs": [],
   "source": [
    "df_new = df_orig.dropna(subset=['Name', 'Genre'], how='any')\n",
    "np.shape(df_new)"
   ]
  },
  {
   "cell_type": "code",
   "execution_count": null,
   "metadata": {},
   "outputs": [],
   "source": [
    "# Создаем новый признак nan_exist со значениями True и False если для наблюдения соотвественно есть или нет \n",
    "# пропущенные значения хотя бы по одному признаку\n",
    "df_new['nan_exist'] = df_new.drop(['Name', 'Genre'], axis=1).isnull().any(axis=1)"
   ]
  },
  {
   "cell_type": "code",
   "execution_count": null,
   "metadata": {},
   "outputs": [],
   "source": [
    "sns.factorplot(x='Genre', hue='nan_exist', data=df_new, kind='count', size = 8).set_xticklabels(rotation=45)\n",
    "plt.show()"
   ]
  },
  {
   "cell_type": "code",
   "execution_count": null,
   "metadata": {
    "scrolled": false
   },
   "outputs": [],
   "source": [
    "print('\\nMissing values in Platform:', sum(pd.isnull(df_new.Platform)), '\\n\\n')\n",
    "\n",
    "plt.figure(figsize=(11.7, 8.27))\n",
    "sns.countplot(x='Platform', hue='nan_exist', data=df_new)\n",
    "plt.xticks(rotation=45)\n",
    "plt.show() # при таком выводе не выводится лишняя информация от matplotlib"
   ]
  },
  {
   "cell_type": "markdown",
   "metadata": {},
   "source": [
    "По умолчанию категории упорядочены по тому, какая раньше встретилась в наборе данных. Порядок можно поменять с помощью аргумента `order`.  \n",
    "Можно, например, отсортировать в лексикографическом порядке. "
   ]
  },
  {
   "cell_type": "code",
   "execution_count": null,
   "metadata": {},
   "outputs": [],
   "source": [
    "plt.figure(figsize=(8,5))\n",
    "sns.countplot(x='Platform', hue='nan_exist', data=df_new, order=sorted(df_new.Platform.unique()))\n",
    "plt.xticks(rotation=45)\n",
    "plt.show()"
   ]
  },
  {
   "cell_type": "markdown",
   "metadata": {},
   "source": [
    "Или в случайном порядке:"
   ]
  },
  {
   "cell_type": "code",
   "execution_count": null,
   "metadata": {},
   "outputs": [],
   "source": [
    "from random import shuffle\n",
    "x = df_new.Platform.unique()\n",
    "plt.figure(figsize=(8,5))\n",
    "shuffle(x) # изменяет объект (перемешивает элементы), возвращает None\n",
    "sns.countplot(x='Platform', hue='nan_exist', data=df_new, order=x)\n",
    "plt.xticks(rotation=45)\n",
    "plt.show()"
   ]
  },
  {
   "cell_type": "markdown",
   "metadata": {},
   "source": [
    "Или по убыванию величины категории. Но использовать для этого `countplot` не всегда разумно, т.к. все равно приходится вызывать `value_counts()`."
   ]
  },
  {
   "cell_type": "code",
   "execution_count": null,
   "metadata": {},
   "outputs": [],
   "source": [
    "sns.countplot(x='Platform', hue='nan_exist', data=df_new, \n",
    "              order=df_new.Platform.value_counts().index)\n",
    "plt.xticks(rotation=45)\n",
    "plt.show()"
   ]
  },
  {
   "cell_type": "markdown",
   "metadata": {},
   "source": [
    "### Задание\n",
    "  \n",
    "**Постройте график или несколько, показывающий число игр, выпущенных в каждый год в общем и с разбивкой:**  \n",
    "  \n",
    "&nbsp;&nbsp;&nbsp;&nbsp;**- по жанру**  \n",
    "&nbsp;&nbsp;&nbsp;&nbsp;**- по возрастному рейтингу**    \n",
    "\n",
    "**Выполните задание, используя `barplot`.**"
   ]
  },
  {
   "cell_type": "code",
   "execution_count": null,
   "metadata": {},
   "outputs": [],
   "source": [
    "# ваш код здесь\n",
    "\n"
   ]
  },
  {
   "cell_type": "markdown",
   "metadata": {},
   "source": [
    "## Распределение непрерывных признаков <a name=\"contin\"></a>"
   ]
  },
  {
   "cell_type": "markdown",
   "metadata": {},
   "source": [
    "### Гистограмма <a name=\"hist\"></a>"
   ]
  },
  {
   "cell_type": "markdown",
   "metadata": {},
   "source": [
    "Гистограмма позволяет оценить распределение непрерывной величины, разбивая интервал значений на несколько интервалов и считая, сколько наблюдений попало в каждый из интервалов, аналогично `bar plot`.  \n",
    "Для правильной оценки распределения важно выбрать число интервалов (они, как правило, равны). Чаще всего по умолчанию используют число интервалов равное $\\sqrt{x_{max}}$, где $x_{max}$ - наибольшее наблюдаемое значение."
   ]
  },
  {
   "cell_type": "code",
   "execution_count": null,
   "metadata": {},
   "outputs": [],
   "source": [
    "df.Critic_Score.hist(figsize=(12,8))\n",
    "plt.show()"
   ]
  },
  {
   "cell_type": "code",
   "execution_count": null,
   "metadata": {},
   "outputs": [],
   "source": [
    "plt.figure(figsize=(11.7, 8.27))\n",
    "'''\n",
    "    Аргумент kde (по умолчанию True) указывает, что мы строим плотность распределения на основе гистограммы\n",
    "    Если изменить на False, будет просто гистограмма\n",
    "    Аргумент rug (False by default) отвечает за отображение наблюдений ('палочки' снизу графика)\n",
    "'''\n",
    "sns.distplot(df['Critic_Score'], kde=True, rug=True)\n",
    "plt.show()"
   ]
  },
  {
   "cell_type": "markdown",
   "metadata": {},
   "source": [
    "Можно построить гистрограмму признака с разбивкой по группам, что позволит оценить распределение признака в каждой группе и сравнить между собой. Но т.к. границы значений наблюдений в каждой группе могут отличаться, гистограммы также будут построены с разными параметрами - числом столбцов и их шириной."
   ]
  },
  {
   "cell_type": "code",
   "execution_count": null,
   "metadata": {
    "scrolled": false
   },
   "outputs": [],
   "source": [
    "# разбиение по умолчанию\n",
    "df[['Critic_Score']].hist(by=df.Genre, figsize=(12,8), sharex=True)\n",
    "plt.show()"
   ]
  },
  {
   "cell_type": "markdown",
   "metadata": {},
   "source": [
    "Можно явно задать число столбцов в гистограмме (`bins`). Тем не менее, они будут по-прежнему отличаться шириной."
   ]
  },
  {
   "cell_type": "code",
   "execution_count": null,
   "metadata": {},
   "outputs": [],
   "source": [
    "# фиксированное число разбиений\n",
    "df[['Critic_Score']].hist(by=df.Genre, figsize=(12,8), sharex=True, bins=20)\n",
    "plt.show()"
   ]
  },
  {
   "cell_type": "markdown",
   "metadata": {},
   "source": [
    "Также можно арументу `bins` вместо числа столбцов передать сами интервалы - массив из n+1 значений, где n - число интервалов. При этом, интервалы могут быть разного размера.  \n",
    "В таком случае гистограммы для разных групп будут синхронизированы.  \n",
    "  \n",
    "Гистограммы позволяют оценить распределение в целом, сделать выводы о принаджлежности распределения к одному из известных, и заметить отклонения. Например, на графиках распределения напоминают нормальное, но средние значения сильно смещены вправо, при этом распределения имеют длинные левые хвосты.  "
   ]
  },
  {
   "cell_type": "code",
   "execution_count": null,
   "metadata": {
    "scrolled": false
   },
   "outputs": [],
   "source": [
    "# фиксированные интервалы\n",
    "# от 0 до максимального значения признака с шагом 5\n",
    "# +1 для того, чтобы максимальное значение вошло в интервал\n",
    "df[['Critic_Score']].hist(by=df.Genre, \n",
    "                          figsize=(12,8), \n",
    "                          sharex=True,\n",
    "                          bins=np.array(range(0,max(df.Critic_Score.astype('int64')) + 1, 5)))\n",
    "plt.show()"
   ]
  },
  {
   "cell_type": "markdown",
   "metadata": {},
   "source": [
    "### Задание\n",
    "  \n",
    "__Постройте гистрограмму числа пользователей.<br> Также постройте с разбивкой по возрастному рейтингу. Используйте одни и те же интервалы в каждой из гистограмм.__ "
   ]
  },
  {
   "cell_type": "code",
   "execution_count": null,
   "metadata": {},
   "outputs": [],
   "source": [
    "# ваш код здесь\n",
    "\n"
   ]
  },
  {
   "cell_type": "markdown",
   "metadata": {},
   "source": [
    "### Boxplot <a name=\"boxplot\"></a>"
   ]
  },
  {
   "cell_type": "markdown",
   "metadata": {},
   "source": [
    "Для более детальной оценки и визуализации статистик распределения непрерывных величин принято использовать `boxplot`.  \n",
    "  \n",
    "Ящик содержит в себе половину наблюдений - от 0.25 персентиля до 0.75 персентиля. Черта посередине - медиана. Границы \"усов\" определяются по формуле на изображении ниже. Все, что выходит за эти ганицы, считается выбросами и отображается отдельными точками. Изображение ниже демонстрируем `boxplot` для нормального распределения. "
   ]
  },
  {
   "cell_type": "markdown",
   "metadata": {},
   "source": [
    "![title](boxplot.png)"
   ]
  },
  {
   "cell_type": "markdown",
   "metadata": {},
   "source": [
    "Так можно загрузить и вывести изображение в python \n",
    "```python\n",
    "from scipy import misc\n",
    "from matplotlib import cm\n",
    "image = misc.imread('boxplot.png')\n",
    "plt.figure(figsize = (15,10))\n",
    "plt.imshow(image, cmap=cm.binary)\n",
    "```"
   ]
  },
  {
   "cell_type": "markdown",
   "metadata": {},
   "source": [
    "Ниже представлены боксплоты для оценок критиков с разбивкой по жанрам (аналогично гистограммам).   \n",
    "Можно сказать, что оценки у спортивных игр в среднем выше остальных жанров, и распределены более плотно. Хуже всего с оценками у приключенческих игр."
   ]
  },
  {
   "cell_type": "code",
   "execution_count": null,
   "metadata": {},
   "outputs": [],
   "source": [
    "plt.figure(figsize=(11.7, 8.27))\n",
    "sns.boxplot(y=\"Genre\", x=\"Critic_Score\", data=df, orient=\"h\")\n",
    "plt.show()"
   ]
  },
  {
   "cell_type": "markdown",
   "metadata": {},
   "source": [
    "При построении боксплотов мы хорошо визуализируем статистики, но теряем информацию о количестве наблюдений, на которых эти статистики оценивались. Для устранения этого недостатка можно воспользоваться способом, представленным ниже. Также для этого есть модифицированный боксплот - `violin plot`."
   ]
  },
  {
   "cell_type": "code",
   "execution_count": null,
   "metadata": {},
   "outputs": [],
   "source": [
    "plt.figure(figsize=(11.7, 8.27))\n",
    "sns.boxplot(y=\"Genre\", x=\"Critic_Score\", data=df, orient=\"h\")\n",
    "sns.stripplot(y=\"Genre\", x=\"Critic_Score\", data=df, color=\"orange\", jitter=0.2, size=2.5)"
   ]
  },
  {
   "cell_type": "markdown",
   "metadata": {},
   "source": [
    "### Задание\n",
    "  \n",
    "__С помощью `boxplot` оцените распределение оценок пользователей для 7 самых популярных (больше всего пользователей) издателей (publisher).__"
   ]
  },
  {
   "cell_type": "code",
   "execution_count": null,
   "metadata": {},
   "outputs": [],
   "source": [
    "# ваш код здесь\n",
    "\n"
   ]
  },
  {
   "cell_type": "markdown",
   "metadata": {},
   "source": [
    "## Визуализация зависимости <a name=\"depend\"></a>"
   ]
  },
  {
   "cell_type": "markdown",
   "metadata": {},
   "source": [
    "### Scatter plot <a name=\"scatter\"></a>"
   ]
  },
  {
   "cell_type": "markdown",
   "metadata": {},
   "source": [
    "Диаграмма рассеяния, по сути, визуализирует наблюдения в пространстве двух признаков. На основе распределения точек на графике можно сделать вывод, например, о зависимости признаков. "
   ]
  },
  {
   "cell_type": "code",
   "execution_count": null,
   "metadata": {},
   "outputs": [],
   "source": [
    "df.plot.scatter(x='User_Score', y='Critic_Score', figsize=(11.7, 8.27))\n",
    "plt.show()"
   ]
  },
  {
   "cell_type": "markdown",
   "metadata": {},
   "source": [
    "На график можно добавить информацию о третьем признаке, например, через размер точек."
   ]
  },
  {
   "cell_type": "code",
   "execution_count": null,
   "metadata": {},
   "outputs": [],
   "source": [
    "df.plot.scatter(x='User_Score', y='Critic_Score', s=df.Global_Sales, figsize=(11.7, 8.27))\n",
    "plt.show()"
   ]
  },
  {
   "cell_type": "markdown",
   "metadata": {},
   "source": [
    "Или через цвет."
   ]
  },
  {
   "cell_type": "code",
   "execution_count": null,
   "metadata": {},
   "outputs": [],
   "source": [
    "sns.pairplot(x_vars='User_Score', y_vars='Critic_Score', data=df, hue=\"Rating\", size=8)\n",
    "plt.show()"
   ]
  },
  {
   "cell_type": "markdown",
   "metadata": {},
   "source": [
    "Warning: ниже тяжелый график, может долго отрисовываться и съесть много ресурсов. "
   ]
  },
  {
   "cell_type": "code",
   "execution_count": null,
   "metadata": {
    "scrolled": false
   },
   "outputs": [],
   "source": [
    "# sns.pairplot(df[['NA_Sales', \n",
    "#                 'EU_Sales', \n",
    "#                 'JP_Sales', \n",
    "#                 'Other_Sales', \n",
    "#                 'Global_Sales', \n",
    "#                 'Critic_Score', \n",
    "#                 'Critic_Count', \n",
    "#                 'User_Score', \n",
    "#                 'User_Count']])"
   ]
  },
  {
   "cell_type": "markdown",
   "metadata": {},
   "source": [
    "## Heatmap <a name=\"heat\"></a>"
   ]
  },
  {
   "cell_type": "markdown",
   "metadata": {},
   "source": [
    "Тепловые карты просто раскрашивают матрицу числовых значений, используя цветовую шкалу, построенную на основе значений в матрице. Так очень удобно оценивать корреляции между признаками. "
   ]
  },
  {
   "cell_type": "code",
   "execution_count": null,
   "metadata": {},
   "outputs": [],
   "source": [
    "corr_mat = df[['NA_Sales', \n",
    "                 'EU_Sales', \n",
    "                 'JP_Sales', \n",
    "                 'Other_Sales', \n",
    "                 'Global_Sales', \n",
    "                 'Critic_Score', \n",
    "                 'Critic_Count', \n",
    "                 'User_Score', \n",
    "                 'User_Count']].corr()"
   ]
  },
  {
   "cell_type": "code",
   "execution_count": null,
   "metadata": {},
   "outputs": [],
   "source": [
    "sns.heatmap(corr_mat, annot=True)\n",
    "plt.ylim((corr_mat.shape[0], 0)) # fixes bug in matplotlib 3.1.1, should be removed in other versions\n",
    "plt.show()"
   ]
  },
  {
   "cell_type": "markdown",
   "metadata": {},
   "source": [
    "Также можно привизуализировать и сводные таблицы."
   ]
  },
  {
   "cell_type": "code",
   "execution_count": null,
   "metadata": {},
   "outputs": [],
   "source": [
    "sns.heatmap(df.pivot_table(index='Platform', \n",
    "                           columns='Genre', \n",
    "                            values='User_Score', \n",
    "                            aggfunc=np.mean), \n",
    "            annot=True, fmt=\".1f\", linewidths=.5)\n",
    "plt.ylim((df['Platform'].nunique(), 0)) # fixes bug in matplotlib 3.1.1, should be removed in other versions\n",
    "plt.show()"
   ]
  },
  {
   "cell_type": "markdown",
   "metadata": {},
   "source": [
    "## Несколько графиков на одном <a name=\"subplot\"></a>"
   ]
  },
  {
   "cell_type": "markdown",
   "metadata": {},
   "source": [
    "Просто демонстрация возможностей."
   ]
  },
  {
   "cell_type": "code",
   "execution_count": null,
   "metadata": {
    "scrolled": false
   },
   "outputs": [],
   "source": [
    "sns.distplot(np.random.normal(size=1000, scale=1.0), hist=False, label = \"std = 1.0\")\n",
    "sns.distplot(np.random.normal(size=1000, scale=2.0), hist=False, label = \"std = 2.0\")\n",
    "sns.distplot(np.random.normal(size=1000, scale=3.0), hist=False, label = \"std = 3.0\")\n",
    "plt.legend(loc='best')\n",
    "plt.show()"
   ]
  },
  {
   "cell_type": "code",
   "execution_count": null,
   "metadata": {},
   "outputs": [],
   "source": [
    "plt.subplot(2, 1, 1)\n",
    "sns.distplot(np.random.normal(size=1000, scale=1.0), hist=False, label = \"std = 1.0\")\n",
    "\n",
    "plt.subplot(2, 2, 3)\n",
    "sns.distplot(np.random.normal(size=1000, scale=2.0), hist=False, label = \"std = 2.0\")\n",
    "\n",
    "plt.subplot(2, 2, 4)\n",
    "sns.distplot(np.random.normal(size=1000, scale=3.0), hist=False, label = \"std = 3.0\")\n",
    "\n",
    "plt.show()"
   ]
  },
  {
   "cell_type": "markdown",
   "metadata": {},
   "source": [
    "## Сохранение изображения <a name=\"save\"></a>"
   ]
  },
  {
   "cell_type": "code",
   "execution_count": null,
   "metadata": {},
   "outputs": [],
   "source": [
    "from pylab import savefig"
   ]
  },
  {
   "cell_type": "code",
   "execution_count": null,
   "metadata": {},
   "outputs": [],
   "source": [
    "plt.subplot(2, 1, 1)\n",
    "sns.distplot(np.random.normal(size=1000, scale=1.0), hist=False, label = \"std = 1.0\")\n",
    "\n",
    "plt.subplot(2, 2, 3)\n",
    "sns.distplot(np.random.normal(size=1000, scale=2.0), hist=False, label = \"std = 2.0\")\n",
    "\n",
    "plt.subplot(2, 2, 4)\n",
    "sns.distplot(np.random.normal(size=1000, scale=3.0), hist=False, label = \"std = 3.0\")\n",
    "\n",
    "savefig('foo.pdf') # vectorized\n",
    "savefig('foo.png') # rasterized\n",
    "# чтобы удалить белые поля по бокам изображения, передайте аргумент bbox_inches='tight'"
   ]
  },
  {
   "cell_type": "markdown",
   "metadata": {},
   "source": [
    "## Подписи осей <a name=\"labels\"></a>"
   ]
  },
  {
   "cell_type": "markdown",
   "metadata": {},
   "source": [
    "На многих графиках выше одна из осей или даже обе оставались без подписей. В таком случае сложно понять, что именно изображено на графике. Не надо так.  \n",
    "Подписи можно задать с помощью функций `xlabel` и `ylabel`."
   ]
  },
  {
   "cell_type": "code",
   "execution_count": null,
   "metadata": {},
   "outputs": [],
   "source": [
    "sns.distplot(np.random.normal(size=1000, scale=1.0), hist=False, label = \"std = 1.0\")\n",
    "sns.distplot(np.random.normal(size=1000, scale=2.0), hist=False, label = \"std = 2.0\")\n",
    "sns.distplot(np.random.normal(size=1000, scale=3.0), hist=False, label = \"std = 3.0\")\n",
    "\n",
    "plt.xlabel('x')\n",
    "plt.ylabel('f(x)')\n",
    "\n",
    "plt.title(\"N(0, std)\")\n",
    "\n",
    "plt.legend(loc='best')\n",
    "plt.show()"
   ]
  }
 ],
 "metadata": {
  "anaconda-cloud": {},
  "kernelspec": {
   "display_name": "Python 3",
   "language": "python",
   "name": "python3"
  },
  "language_info": {
   "codemirror_mode": {
    "name": "ipython",
    "version": 3
   },
   "file_extension": ".py",
   "mimetype": "text/x-python",
   "name": "python",
   "nbconvert_exporter": "python",
   "pygments_lexer": "ipython3",
   "version": "3.8.0"
  }
 },
 "nbformat": 4,
 "nbformat_minor": 2
}
