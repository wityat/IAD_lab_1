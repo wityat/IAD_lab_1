{
 "cells": [
  {
   "cell_type": "markdown",
   "metadata": {},
   "source": [
    "# <center> Майнор \"Интеллектуальный анализ данных\" </center>"
   ]
  },
  {
   "cell_type": "markdown",
   "metadata": {},
   "source": [
    "# <center> Курс \"Введение в анализ данных\" </center>"
   ]
  },
  {
   "cell_type": "markdown",
   "metadata": {},
   "source": [
    "# <center> Лабораторная работа №1. Обработка и первичный анализ данных </center>"
   ]
  },
  {
   "cell_type": "markdown",
   "metadata": {},
   "source": [
    "## Данные"
   ]
  },
  {
   "cell_type": "markdown",
   "metadata": {},
   "source": [
    "В рамках данной лабораторной работы вам предлагается проанализировать набор данных о студентах двух школ в Португалии.  \n",
    "В файле `students_data.csv` представлена информация о студентах, посещающих два курса - математику (`Math`) и поргутальский язык (`Por`). Некоторые студенты представлены в обоих курсах, некоторые - только в одном. Для каждого студента известны три оценки по курсу: оценка за первое полугодие (`G1`), оценка за второе полугодие (`G2`) и итоговая оценка за год (`G3`)."
   ]
  },
  {
   "cell_type": "code",
   "execution_count": 235,
   "metadata": {
    "pycharm": {
     "is_executing": false
    }
   },
   "outputs": [],
   "source": [
    "import pandas as pd\n",
    "\n",
    "import seaborn as sns\n",
    "import matplotlib.pyplot as plt\n",
    "from numpy.random import seed\n",
    "from numpy.random import randn\n",
    "from numpy import mean\n",
    "from numpy import std\n",
    "\n",
    "import pylab as pl\n",
    "import numpy as np"
   ]
  },
  {
   "cell_type": "code",
   "execution_count": 236,
   "metadata": {
    "pycharm": {
     "is_executing": false
    }
   },
   "outputs": [],
   "source": [
    "pd.set_option('display.max_columns', None)\n",
    "pd.set_option('display.max_colwidth', None)"
   ]
  },
  {
   "cell_type": "code",
   "execution_count": 237,
   "metadata": {
    "pycharm": {
     "is_executing": false
    }
   },
   "outputs": [
    {
     "data": {
      "text/plain": [
       "(1044, 36)"
      ]
     },
     "execution_count": 237,
     "metadata": {},
     "output_type": "execute_result"
    }
   ],
   "source": [
    "data = pd.read_csv(\"students_data.csv\")\n",
    "data.shape"
   ]
  },
  {
   "cell_type": "code",
   "execution_count": 238,
   "metadata": {
    "pycharm": {
     "is_executing": false
    }
   },
   "outputs": [
    {
     "data": {
      "text/html": [
       "<div>\n",
       "<style scoped>\n",
       "    .dataframe tbody tr th:only-of-type {\n",
       "        vertical-align: middle;\n",
       "    }\n",
       "\n",
       "    .dataframe tbody tr th {\n",
       "        vertical-align: top;\n",
       "    }\n",
       "\n",
       "    .dataframe thead th {\n",
       "        text-align: right;\n",
       "    }\n",
       "</style>\n",
       "<table border=\"1\" class=\"dataframe\">\n",
       "  <thead>\n",
       "    <tr style=\"text-align: right;\">\n",
       "      <th></th>\n",
       "      <th>ID</th>\n",
       "      <th>Subject</th>\n",
       "      <th>school</th>\n",
       "      <th>sex</th>\n",
       "      <th>age</th>\n",
       "      <th>address</th>\n",
       "      <th>famsize</th>\n",
       "      <th>Pstatus</th>\n",
       "      <th>Medu</th>\n",
       "      <th>Fedu</th>\n",
       "      <th>Mjob</th>\n",
       "      <th>Fjob</th>\n",
       "      <th>reason</th>\n",
       "      <th>guardian</th>\n",
       "      <th>traveltime</th>\n",
       "      <th>studytime</th>\n",
       "      <th>failures</th>\n",
       "      <th>schoolsup</th>\n",
       "      <th>famsup</th>\n",
       "      <th>paid</th>\n",
       "      <th>activities</th>\n",
       "      <th>nursery</th>\n",
       "      <th>higher</th>\n",
       "      <th>internet</th>\n",
       "      <th>romantic</th>\n",
       "      <th>famrel</th>\n",
       "      <th>freetime</th>\n",
       "      <th>goout</th>\n",
       "      <th>Dalc</th>\n",
       "      <th>Walc</th>\n",
       "      <th>health</th>\n",
       "      <th>absences</th>\n",
       "      <th>cheating</th>\n",
       "      <th>G1</th>\n",
       "      <th>G2</th>\n",
       "      <th>G3</th>\n",
       "    </tr>\n",
       "  </thead>\n",
       "  <tbody>\n",
       "    <tr>\n",
       "      <th>0</th>\n",
       "      <td>100097</td>\n",
       "      <td>Por</td>\n",
       "      <td>GP</td>\n",
       "      <td>F</td>\n",
       "      <td>16</td>\n",
       "      <td>U</td>\n",
       "      <td>GT3</td>\n",
       "      <td>A</td>\n",
       "      <td>3</td>\n",
       "      <td>4</td>\n",
       "      <td>services</td>\n",
       "      <td>other</td>\n",
       "      <td>course</td>\n",
       "      <td>father</td>\n",
       "      <td>1</td>\n",
       "      <td>1</td>\n",
       "      <td>0</td>\n",
       "      <td>no</td>\n",
       "      <td>no</td>\n",
       "      <td>no</td>\n",
       "      <td>no</td>\n",
       "      <td>yes</td>\n",
       "      <td>yes</td>\n",
       "      <td>yes</td>\n",
       "      <td>no</td>\n",
       "      <td>3.0</td>\n",
       "      <td>2</td>\n",
       "      <td>1</td>\n",
       "      <td>1.0</td>\n",
       "      <td>4.0</td>\n",
       "      <td>5</td>\n",
       "      <td>12</td>\n",
       "      <td>NaN</td>\n",
       "      <td>15</td>\n",
       "      <td>13</td>\n",
       "      <td>14</td>\n",
       "    </tr>\n",
       "    <tr>\n",
       "      <th>1</th>\n",
       "      <td>101021</td>\n",
       "      <td>Por</td>\n",
       "      <td>GP</td>\n",
       "      <td>F</td>\n",
       "      <td>17</td>\n",
       "      <td>U</td>\n",
       "      <td>GT3</td>\n",
       "      <td>T</td>\n",
       "      <td>3</td>\n",
       "      <td>2</td>\n",
       "      <td>other</td>\n",
       "      <td>other</td>\n",
       "      <td>course</td>\n",
       "      <td>mother</td>\n",
       "      <td>1</td>\n",
       "      <td>2</td>\n",
       "      <td>0</td>\n",
       "      <td>no</td>\n",
       "      <td>no</td>\n",
       "      <td>no</td>\n",
       "      <td>yes</td>\n",
       "      <td>no</td>\n",
       "      <td>yes</td>\n",
       "      <td>yes</td>\n",
       "      <td>no</td>\n",
       "      <td>5.0</td>\n",
       "      <td>3</td>\n",
       "      <td>4</td>\n",
       "      <td>1.0</td>\n",
       "      <td>3.0</td>\n",
       "      <td>3</td>\n",
       "      <td>2</td>\n",
       "      <td>NaN</td>\n",
       "      <td>17</td>\n",
       "      <td>18</td>\n",
       "      <td>17</td>\n",
       "    </tr>\n",
       "    <tr>\n",
       "      <th>2</th>\n",
       "      <td>102965</td>\n",
       "      <td>Por</td>\n",
       "      <td>GP</td>\n",
       "      <td>M</td>\n",
       "      <td>16</td>\n",
       "      <td>U</td>\n",
       "      <td>LE3</td>\n",
       "      <td>T</td>\n",
       "      <td>1</td>\n",
       "      <td>2</td>\n",
       "      <td>health</td>\n",
       "      <td>services</td>\n",
       "      <td>course</td>\n",
       "      <td>mother</td>\n",
       "      <td>2</td>\n",
       "      <td>1</td>\n",
       "      <td>2</td>\n",
       "      <td>no</td>\n",
       "      <td>no</td>\n",
       "      <td>no</td>\n",
       "      <td>no</td>\n",
       "      <td>no</td>\n",
       "      <td>yes</td>\n",
       "      <td>yes</td>\n",
       "      <td>no</td>\n",
       "      <td>4.0</td>\n",
       "      <td>4</td>\n",
       "      <td>5</td>\n",
       "      <td>3.0</td>\n",
       "      <td>5.0</td>\n",
       "      <td>5</td>\n",
       "      <td>0</td>\n",
       "      <td>yes</td>\n",
       "      <td>9</td>\n",
       "      <td>8</td>\n",
       "      <td>10</td>\n",
       "    </tr>\n",
       "    <tr>\n",
       "      <th>3</th>\n",
       "      <td>102989</td>\n",
       "      <td>Por</td>\n",
       "      <td>MS</td>\n",
       "      <td>M</td>\n",
       "      <td>17</td>\n",
       "      <td>U</td>\n",
       "      <td>GT3</td>\n",
       "      <td>T</td>\n",
       "      <td>2</td>\n",
       "      <td>3</td>\n",
       "      <td>other</td>\n",
       "      <td>services</td>\n",
       "      <td>home</td>\n",
       "      <td>father</td>\n",
       "      <td>2</td>\n",
       "      <td>2</td>\n",
       "      <td>0</td>\n",
       "      <td>no</td>\n",
       "      <td>no</td>\n",
       "      <td>no</td>\n",
       "      <td>yes</td>\n",
       "      <td>yes</td>\n",
       "      <td>yes</td>\n",
       "      <td>yes</td>\n",
       "      <td>no</td>\n",
       "      <td>4.0</td>\n",
       "      <td>4</td>\n",
       "      <td>3</td>\n",
       "      <td>1.0</td>\n",
       "      <td>1.0</td>\n",
       "      <td>3</td>\n",
       "      <td>4</td>\n",
       "      <td>no</td>\n",
       "      <td>14</td>\n",
       "      <td>15</td>\n",
       "      <td>16</td>\n",
       "    </tr>\n",
       "    <tr>\n",
       "      <th>4</th>\n",
       "      <td>103131</td>\n",
       "      <td>Por</td>\n",
       "      <td>GP</td>\n",
       "      <td>F</td>\n",
       "      <td>16</td>\n",
       "      <td>U</td>\n",
       "      <td>GT3</td>\n",
       "      <td>T</td>\n",
       "      <td>1</td>\n",
       "      <td>1</td>\n",
       "      <td>at_home</td>\n",
       "      <td>other</td>\n",
       "      <td>home</td>\n",
       "      <td>mother</td>\n",
       "      <td>2</td>\n",
       "      <td>1</td>\n",
       "      <td>0</td>\n",
       "      <td>no</td>\n",
       "      <td>yes</td>\n",
       "      <td>no</td>\n",
       "      <td>no</td>\n",
       "      <td>yes</td>\n",
       "      <td>yes</td>\n",
       "      <td>no</td>\n",
       "      <td>NaN</td>\n",
       "      <td>4.0</td>\n",
       "      <td>3</td>\n",
       "      <td>2</td>\n",
       "      <td>1.0</td>\n",
       "      <td>4.0</td>\n",
       "      <td>5</td>\n",
       "      <td>2</td>\n",
       "      <td>yes</td>\n",
       "      <td>12</td>\n",
       "      <td>13</td>\n",
       "      <td>13</td>\n",
       "    </tr>\n",
       "    <tr>\n",
       "      <th>5</th>\n",
       "      <td>103144</td>\n",
       "      <td>Por</td>\n",
       "      <td>GP</td>\n",
       "      <td>M</td>\n",
       "      <td>18</td>\n",
       "      <td>U</td>\n",
       "      <td>LE3</td>\n",
       "      <td>T</td>\n",
       "      <td>3</td>\n",
       "      <td>1</td>\n",
       "      <td>services</td>\n",
       "      <td>services</td>\n",
       "      <td>course</td>\n",
       "      <td>mother</td>\n",
       "      <td>2</td>\n",
       "      <td>1</td>\n",
       "      <td>0</td>\n",
       "      <td>no</td>\n",
       "      <td>no</td>\n",
       "      <td>no</td>\n",
       "      <td>yes</td>\n",
       "      <td>yes</td>\n",
       "      <td>yes</td>\n",
       "      <td>yes</td>\n",
       "      <td>yes</td>\n",
       "      <td>3.0</td>\n",
       "      <td>3</td>\n",
       "      <td>4</td>\n",
       "      <td>4.0</td>\n",
       "      <td>5.0</td>\n",
       "      <td>4</td>\n",
       "      <td>2</td>\n",
       "      <td>NaN</td>\n",
       "      <td>11</td>\n",
       "      <td>11</td>\n",
       "      <td>12</td>\n",
       "    </tr>\n",
       "    <tr>\n",
       "      <th>6</th>\n",
       "      <td>105257</td>\n",
       "      <td>Por</td>\n",
       "      <td>MS</td>\n",
       "      <td>F</td>\n",
       "      <td>18</td>\n",
       "      <td>U</td>\n",
       "      <td>GT3</td>\n",
       "      <td>T</td>\n",
       "      <td>1</td>\n",
       "      <td>1</td>\n",
       "      <td>other</td>\n",
       "      <td>other</td>\n",
       "      <td>course</td>\n",
       "      <td>mother</td>\n",
       "      <td>2</td>\n",
       "      <td>2</td>\n",
       "      <td>0</td>\n",
       "      <td>no</td>\n",
       "      <td>no</td>\n",
       "      <td>no</td>\n",
       "      <td>yes</td>\n",
       "      <td>yes</td>\n",
       "      <td>yes</td>\n",
       "      <td>no</td>\n",
       "      <td>no</td>\n",
       "      <td>1.0</td>\n",
       "      <td>1</td>\n",
       "      <td>1</td>\n",
       "      <td>1.0</td>\n",
       "      <td>1.0</td>\n",
       "      <td>5</td>\n",
       "      <td>6</td>\n",
       "      <td>NaN</td>\n",
       "      <td>11</td>\n",
       "      <td>12</td>\n",
       "      <td>9</td>\n",
       "    </tr>\n",
       "    <tr>\n",
       "      <th>7</th>\n",
       "      <td>107639</td>\n",
       "      <td>Por</td>\n",
       "      <td>MS</td>\n",
       "      <td>F</td>\n",
       "      <td>15</td>\n",
       "      <td>R</td>\n",
       "      <td>GT3</td>\n",
       "      <td>T</td>\n",
       "      <td>4</td>\n",
       "      <td>4</td>\n",
       "      <td>teacher</td>\n",
       "      <td>other</td>\n",
       "      <td>course</td>\n",
       "      <td>mother</td>\n",
       "      <td>2</td>\n",
       "      <td>1</td>\n",
       "      <td>0</td>\n",
       "      <td>no</td>\n",
       "      <td>no</td>\n",
       "      <td>no</td>\n",
       "      <td>no</td>\n",
       "      <td>yes</td>\n",
       "      <td>yes</td>\n",
       "      <td>yes</td>\n",
       "      <td>yes</td>\n",
       "      <td>1.0</td>\n",
       "      <td>5</td>\n",
       "      <td>1</td>\n",
       "      <td>3.0</td>\n",
       "      <td>5.0</td>\n",
       "      <td>5</td>\n",
       "      <td>0</td>\n",
       "      <td>NaN</td>\n",
       "      <td>13</td>\n",
       "      <td>14</td>\n",
       "      <td>14</td>\n",
       "    </tr>\n",
       "    <tr>\n",
       "      <th>8</th>\n",
       "      <td>107914</td>\n",
       "      <td>Math</td>\n",
       "      <td>GP</td>\n",
       "      <td>F</td>\n",
       "      <td>15</td>\n",
       "      <td>U</td>\n",
       "      <td>LE3</td>\n",
       "      <td>T</td>\n",
       "      <td>3</td>\n",
       "      <td>2</td>\n",
       "      <td>services</td>\n",
       "      <td>other</td>\n",
       "      <td>reputation</td>\n",
       "      <td>mother</td>\n",
       "      <td>1</td>\n",
       "      <td>2</td>\n",
       "      <td>0</td>\n",
       "      <td>no</td>\n",
       "      <td>yes</td>\n",
       "      <td>yes</td>\n",
       "      <td>no</td>\n",
       "      <td>yes</td>\n",
       "      <td>yes</td>\n",
       "      <td>yes</td>\n",
       "      <td>no</td>\n",
       "      <td>4.0</td>\n",
       "      <td>4</td>\n",
       "      <td>4</td>\n",
       "      <td>1.0</td>\n",
       "      <td>1.0</td>\n",
       "      <td>5</td>\n",
       "      <td>10</td>\n",
       "      <td>no</td>\n",
       "      <td>7</td>\n",
       "      <td>6</td>\n",
       "      <td>6</td>\n",
       "    </tr>\n",
       "    <tr>\n",
       "      <th>9</th>\n",
       "      <td>108089</td>\n",
       "      <td>Por</td>\n",
       "      <td>MS</td>\n",
       "      <td>M</td>\n",
       "      <td>16</td>\n",
       "      <td>R</td>\n",
       "      <td>GT3</td>\n",
       "      <td>T</td>\n",
       "      <td>3</td>\n",
       "      <td>4</td>\n",
       "      <td>other</td>\n",
       "      <td>health</td>\n",
       "      <td>other</td>\n",
       "      <td>mother</td>\n",
       "      <td>3</td>\n",
       "      <td>2</td>\n",
       "      <td>0</td>\n",
       "      <td>no</td>\n",
       "      <td>no</td>\n",
       "      <td>no</td>\n",
       "      <td>no</td>\n",
       "      <td>no</td>\n",
       "      <td>yes</td>\n",
       "      <td>no</td>\n",
       "      <td>no</td>\n",
       "      <td>3.0</td>\n",
       "      <td>4</td>\n",
       "      <td>5</td>\n",
       "      <td>1.0</td>\n",
       "      <td>2.0</td>\n",
       "      <td>5</td>\n",
       "      <td>4</td>\n",
       "      <td>NaN</td>\n",
       "      <td>9</td>\n",
       "      <td>10</td>\n",
       "      <td>11</td>\n",
       "    </tr>\n",
       "    <tr>\n",
       "      <th>10</th>\n",
       "      <td>108254</td>\n",
       "      <td>Por</td>\n",
       "      <td>GP</td>\n",
       "      <td>M</td>\n",
       "      <td>15</td>\n",
       "      <td>U</td>\n",
       "      <td>LE3</td>\n",
       "      <td>T</td>\n",
       "      <td>4</td>\n",
       "      <td>4</td>\n",
       "      <td>health</td>\n",
       "      <td>services</td>\n",
       "      <td>course</td>\n",
       "      <td>father</td>\n",
       "      <td>1</td>\n",
       "      <td>1</td>\n",
       "      <td>0</td>\n",
       "      <td>no</td>\n",
       "      <td>yes</td>\n",
       "      <td>no</td>\n",
       "      <td>yes</td>\n",
       "      <td>yes</td>\n",
       "      <td>yes</td>\n",
       "      <td>yes</td>\n",
       "      <td>no</td>\n",
       "      <td>4.0</td>\n",
       "      <td>3</td>\n",
       "      <td>3</td>\n",
       "      <td>1.0</td>\n",
       "      <td>3.0</td>\n",
       "      <td>5</td>\n",
       "      <td>0</td>\n",
       "      <td>NaN</td>\n",
       "      <td>12</td>\n",
       "      <td>13</td>\n",
       "      <td>12</td>\n",
       "    </tr>\n",
       "    <tr>\n",
       "      <th>11</th>\n",
       "      <td>108296</td>\n",
       "      <td>Por</td>\n",
       "      <td>GP</td>\n",
       "      <td>M</td>\n",
       "      <td>18</td>\n",
       "      <td>U</td>\n",
       "      <td>LE3</td>\n",
       "      <td>T</td>\n",
       "      <td>3</td>\n",
       "      <td>4</td>\n",
       "      <td>services</td>\n",
       "      <td>other</td>\n",
       "      <td>home</td>\n",
       "      <td>mother</td>\n",
       "      <td>1</td>\n",
       "      <td>2</td>\n",
       "      <td>0</td>\n",
       "      <td>no</td>\n",
       "      <td>no</td>\n",
       "      <td>no</td>\n",
       "      <td>yes</td>\n",
       "      <td>yes</td>\n",
       "      <td>yes</td>\n",
       "      <td>yes</td>\n",
       "      <td>yes</td>\n",
       "      <td>4.0</td>\n",
       "      <td>3</td>\n",
       "      <td>3</td>\n",
       "      <td>1.0</td>\n",
       "      <td>3.0</td>\n",
       "      <td>5</td>\n",
       "      <td>6</td>\n",
       "      <td>no</td>\n",
       "      <td>16</td>\n",
       "      <td>16</td>\n",
       "      <td>17</td>\n",
       "    </tr>\n",
       "    <tr>\n",
       "      <th>12</th>\n",
       "      <td>108753</td>\n",
       "      <td>Math</td>\n",
       "      <td>MS</td>\n",
       "      <td>F</td>\n",
       "      <td>18</td>\n",
       "      <td>R</td>\n",
       "      <td>GT3</td>\n",
       "      <td>T</td>\n",
       "      <td>4</td>\n",
       "      <td>4</td>\n",
       "      <td>teacher</td>\n",
       "      <td>at-home</td>\n",
       "      <td>reputation</td>\n",
       "      <td>mother</td>\n",
       "      <td>3</td>\n",
       "      <td>1</td>\n",
       "      <td>0</td>\n",
       "      <td>no</td>\n",
       "      <td>yes</td>\n",
       "      <td>yes</td>\n",
       "      <td>yes</td>\n",
       "      <td>yes</td>\n",
       "      <td>yes</td>\n",
       "      <td>yes</td>\n",
       "      <td>yes</td>\n",
       "      <td>4.0</td>\n",
       "      <td>4</td>\n",
       "      <td>3</td>\n",
       "      <td>2.0</td>\n",
       "      <td>2.0</td>\n",
       "      <td>5</td>\n",
       "      <td>7</td>\n",
       "      <td>NaN</td>\n",
       "      <td>6</td>\n",
       "      <td>5</td>\n",
       "      <td>6</td>\n",
       "    </tr>\n",
       "    <tr>\n",
       "      <th>13</th>\n",
       "      <td>108825</td>\n",
       "      <td>Por</td>\n",
       "      <td>GP</td>\n",
       "      <td>M</td>\n",
       "      <td>15</td>\n",
       "      <td>U</td>\n",
       "      <td>GT3</td>\n",
       "      <td>T</td>\n",
       "      <td>4</td>\n",
       "      <td>3</td>\n",
       "      <td>teacher</td>\n",
       "      <td>other</td>\n",
       "      <td>home</td>\n",
       "      <td>mother</td>\n",
       "      <td>1</td>\n",
       "      <td>2</td>\n",
       "      <td>0</td>\n",
       "      <td>no</td>\n",
       "      <td>yes</td>\n",
       "      <td>no</td>\n",
       "      <td>yes</td>\n",
       "      <td>yes</td>\n",
       "      <td>yes</td>\n",
       "      <td>yes</td>\n",
       "      <td>no</td>\n",
       "      <td>4.0</td>\n",
       "      <td>3</td>\n",
       "      <td>3</td>\n",
       "      <td>2.0</td>\n",
       "      <td>3.0</td>\n",
       "      <td>5</td>\n",
       "      <td>0</td>\n",
       "      <td>yes</td>\n",
       "      <td>11</td>\n",
       "      <td>11</td>\n",
       "      <td>11</td>\n",
       "    </tr>\n",
       "    <tr>\n",
       "      <th>14</th>\n",
       "      <td>114462</td>\n",
       "      <td>Math</td>\n",
       "      <td>GP</td>\n",
       "      <td>F</td>\n",
       "      <td>16</td>\n",
       "      <td>U</td>\n",
       "      <td>LE3</td>\n",
       "      <td>T</td>\n",
       "      <td>2</td>\n",
       "      <td>2</td>\n",
       "      <td>at_home</td>\n",
       "      <td>other</td>\n",
       "      <td>course</td>\n",
       "      <td>mother</td>\n",
       "      <td>1</td>\n",
       "      <td>2</td>\n",
       "      <td>0</td>\n",
       "      <td>no</td>\n",
       "      <td>yes</td>\n",
       "      <td>no</td>\n",
       "      <td>no</td>\n",
       "      <td>yes</td>\n",
       "      <td>yes</td>\n",
       "      <td>no</td>\n",
       "      <td>no</td>\n",
       "      <td>4.0</td>\n",
       "      <td>3</td>\n",
       "      <td>4</td>\n",
       "      <td>1.0</td>\n",
       "      <td>2.0</td>\n",
       "      <td>2</td>\n",
       "      <td>4</td>\n",
       "      <td>yes</td>\n",
       "      <td>8</td>\n",
       "      <td>7</td>\n",
       "      <td>6</td>\n",
       "    </tr>\n",
       "  </tbody>\n",
       "</table>\n",
       "</div>"
      ],
      "text/plain": [
       "        ID Subject school sex  age address famsize Pstatus Medu Fedu  \\\n",
       "0   100097     Por     GP   F   16       U     GT3       A    3    4   \n",
       "1   101021     Por     GP   F   17       U     GT3       T    3    2   \n",
       "2   102965     Por     GP   M   16       U     LE3       T    1    2   \n",
       "3   102989     Por     MS   M   17       U     GT3       T    2    3   \n",
       "4   103131     Por     GP   F   16       U     GT3       T    1    1   \n",
       "5   103144     Por     GP   M   18       U     LE3       T    3    1   \n",
       "6   105257     Por     MS   F   18       U     GT3       T    1    1   \n",
       "7   107639     Por     MS   F   15       R     GT3       T    4    4   \n",
       "8   107914    Math     GP   F   15       U     LE3       T    3    2   \n",
       "9   108089     Por     MS   M   16       R     GT3       T    3    4   \n",
       "10  108254     Por     GP   M   15       U     LE3       T    4    4   \n",
       "11  108296     Por     GP   M   18       U     LE3       T    3    4   \n",
       "12  108753    Math     MS   F   18       R     GT3       T    4    4   \n",
       "13  108825     Por     GP   M   15       U     GT3       T    4    3   \n",
       "14  114462    Math     GP   F   16       U     LE3       T    2    2   \n",
       "\n",
       "        Mjob      Fjob      reason guardian  traveltime  studytime  failures  \\\n",
       "0   services     other      course   father           1          1         0   \n",
       "1      other     other      course   mother           1          2         0   \n",
       "2     health  services      course   mother           2          1         2   \n",
       "3      other  services        home   father           2          2         0   \n",
       "4    at_home     other        home   mother           2          1         0   \n",
       "5   services  services      course   mother           2          1         0   \n",
       "6      other     other      course   mother           2          2         0   \n",
       "7    teacher     other      course   mother           2          1         0   \n",
       "8   services     other  reputation   mother           1          2         0   \n",
       "9      other    health       other   mother           3          2         0   \n",
       "10    health  services      course   father           1          1         0   \n",
       "11  services     other        home   mother           1          2         0   \n",
       "12   teacher   at-home  reputation   mother           3          1         0   \n",
       "13   teacher     other        home   mother           1          2         0   \n",
       "14   at_home     other      course   mother           1          2         0   \n",
       "\n",
       "   schoolsup famsup paid activities nursery higher internet romantic  famrel  \\\n",
       "0         no     no   no         no     yes    yes      yes       no     3.0   \n",
       "1         no     no   no        yes      no    yes      yes       no     5.0   \n",
       "2         no     no   no         no      no    yes      yes       no     4.0   \n",
       "3         no     no   no        yes     yes    yes      yes       no     4.0   \n",
       "4         no    yes   no         no     yes    yes       no      NaN     4.0   \n",
       "5         no     no   no        yes     yes    yes      yes      yes     3.0   \n",
       "6         no     no   no        yes     yes    yes       no       no     1.0   \n",
       "7         no     no   no         no     yes    yes      yes      yes     1.0   \n",
       "8         no    yes  yes         no     yes    yes      yes       no     4.0   \n",
       "9         no     no   no         no      no    yes       no       no     3.0   \n",
       "10        no    yes   no        yes     yes    yes      yes       no     4.0   \n",
       "11        no     no   no        yes     yes    yes      yes      yes     4.0   \n",
       "12        no    yes  yes        yes     yes    yes      yes      yes     4.0   \n",
       "13        no    yes   no        yes     yes    yes      yes       no     4.0   \n",
       "14        no    yes   no         no     yes    yes       no       no     4.0   \n",
       "\n",
       "    freetime  goout  Dalc  Walc  health  absences cheating  G1  G2  G3  \n",
       "0          2      1   1.0   4.0       5        12      NaN  15  13  14  \n",
       "1          3      4   1.0   3.0       3         2      NaN  17  18  17  \n",
       "2          4      5   3.0   5.0       5         0      yes   9   8  10  \n",
       "3          4      3   1.0   1.0       3         4       no  14  15  16  \n",
       "4          3      2   1.0   4.0       5         2      yes  12  13  13  \n",
       "5          3      4   4.0   5.0       4         2      NaN  11  11  12  \n",
       "6          1      1   1.0   1.0       5         6      NaN  11  12   9  \n",
       "7          5      1   3.0   5.0       5         0      NaN  13  14  14  \n",
       "8          4      4   1.0   1.0       5        10       no   7   6   6  \n",
       "9          4      5   1.0   2.0       5         4      NaN   9  10  11  \n",
       "10         3      3   1.0   3.0       5         0      NaN  12  13  12  \n",
       "11         3      3   1.0   3.0       5         6       no  16  16  17  \n",
       "12         4      3   2.0   2.0       5         7      NaN   6   5   6  \n",
       "13         3      3   2.0   3.0       5         0      yes  11  11  11  \n",
       "14         3      4   1.0   2.0       2         4      yes   8   7   6  "
      ]
     },
     "execution_count": 238,
     "metadata": {},
     "output_type": "execute_result"
    }
   ],
   "source": [
    "data.head(15)"
   ]
  },
  {
   "cell_type": "markdown",
   "metadata": {},
   "source": [
    "### Признаки"
   ]
  },
  {
   "cell_type": "markdown",
   "metadata": {},
   "source": [
    "Данные представлены признаками различных типов: числовыми, категориальными, упорядоченными категориальными."
   ]
  },
  {
   "cell_type": "markdown",
   "metadata": {},
   "source": [
    "**Описание признаков:**"
   ]
  },
  {
   "cell_type": "code",
   "execution_count": 239,
   "metadata": {
    "pycharm": {
     "is_executing": false
    }
   },
   "outputs": [
    {
     "data": {
      "text/html": [
       "<div>\n",
       "<style scoped>\n",
       "    .dataframe tbody tr th:only-of-type {\n",
       "        vertical-align: middle;\n",
       "    }\n",
       "\n",
       "    .dataframe tbody tr th {\n",
       "        vertical-align: top;\n",
       "    }\n",
       "\n",
       "    .dataframe thead th {\n",
       "        text-align: right;\n",
       "    }\n",
       "</style>\n",
       "<table border=\"1\" class=\"dataframe\">\n",
       "  <thead>\n",
       "    <tr style=\"text-align: right;\">\n",
       "      <th></th>\n",
       "      <th>Признак</th>\n",
       "      <th>Описание</th>\n",
       "    </tr>\n",
       "  </thead>\n",
       "  <tbody>\n",
       "    <tr>\n",
       "      <th>0</th>\n",
       "      <td>ID</td>\n",
       "      <td>Уникальный номер наблюдения</td>\n",
       "    </tr>\n",
       "    <tr>\n",
       "      <th>1</th>\n",
       "      <td>Subject</td>\n",
       "      <td>Предмет: 'Math' - математика, 'Por' - португальский язык</td>\n",
       "    </tr>\n",
       "    <tr>\n",
       "      <th>2</th>\n",
       "      <td>school</td>\n",
       "      <td>Школа: 'GP' - Gabriel Pereira, 'MS' - Mousinho da Silveira</td>\n",
       "    </tr>\n",
       "    <tr>\n",
       "      <th>3</th>\n",
       "      <td>sex</td>\n",
       "      <td>Пол студента: 'F' - женский, 'M' - мужской</td>\n",
       "    </tr>\n",
       "    <tr>\n",
       "      <th>4</th>\n",
       "      <td>age</td>\n",
       "      <td>Возраст студента</td>\n",
       "    </tr>\n",
       "    <tr>\n",
       "      <th>5</th>\n",
       "      <td>address</td>\n",
       "      <td>Место проживания студента: 'U' - в городе, 'R' - за городом</td>\n",
       "    </tr>\n",
       "    <tr>\n",
       "      <th>6</th>\n",
       "      <td>famsize</td>\n",
       "      <td>Число членов семьи: 'LE3' - если &lt;= 3, 'GT3' - если &gt; 3</td>\n",
       "    </tr>\n",
       "    <tr>\n",
       "      <th>7</th>\n",
       "      <td>Pstatus</td>\n",
       "      <td>Отношения родителей: 'T' - живут вместе, 'A' - живут раздельно</td>\n",
       "    </tr>\n",
       "    <tr>\n",
       "      <th>8</th>\n",
       "      <td>Medu</td>\n",
       "      <td>Образование матери: 0 - без образования, 1 - начальная школа, 2 – от 5 до 9 классов, 3 – среднее образование, 4 – высшее образование</td>\n",
       "    </tr>\n",
       "    <tr>\n",
       "      <th>9</th>\n",
       "      <td>Fedu</td>\n",
       "      <td>Образование отца: 0 - без образования, 1 - начальная школа, 2 – от 5 до 9 классов, 3 – среднее образование, 4 – высшее образование</td>\n",
       "    </tr>\n",
       "    <tr>\n",
       "      <th>10</th>\n",
       "      <td>Mjob</td>\n",
       "      <td>Работа матери: 'teacher' - связана с преподаванием, 'health'  - связана с здравоохранением, 'services' - администрация и полиция, 'at_home' - домашняя занятость, 'other' - другое</td>\n",
       "    </tr>\n",
       "    <tr>\n",
       "      <th>11</th>\n",
       "      <td>Fjob</td>\n",
       "      <td>Работа отца: 'teacher' - связана с преподаванием, 'health'  - связана с здравоохранением, 'services' - администрация и полиция, 'at_home' - домашняя занятость, 'other' - другое</td>\n",
       "    </tr>\n",
       "    <tr>\n",
       "      <th>12</th>\n",
       "      <td>reason</td>\n",
       "      <td>Причина, по которой студент выбрал данную школу: 'home' - рядом с домом, 'reputation' - репутация школы, 'course' - читаемые курсы, 'other' - другое</td>\n",
       "    </tr>\n",
       "    <tr>\n",
       "      <th>13</th>\n",
       "      <td>guardian</td>\n",
       "      <td>Опекун студента (student's guardian): 'mother', 'father' или 'other'</td>\n",
       "    </tr>\n",
       "    <tr>\n",
       "      <th>14</th>\n",
       "      <td>traveltime</td>\n",
       "      <td>Время в пути от дома до школы: 1 - &lt; 15 мин, 2 - от 15 до 30 мин, 3 - от 30 мин до 1 часа, 4 - &gt; 1 часа</td>\n",
       "    </tr>\n",
       "    <tr>\n",
       "      <th>15</th>\n",
       "      <td>studytime</td>\n",
       "      <td>Количество часов на учебу в неделю: 1 - &lt; 2 часов, 2 - от 2 до 5 часов, 3 - от 5 до 10 часов, 4 - &gt; 10 часов</td>\n",
       "    </tr>\n",
       "    <tr>\n",
       "      <th>16</th>\n",
       "      <td>failures</td>\n",
       "      <td>Число завалов студента по предыдущим курсам:  n если 0&lt;=n&lt;3, иначе 3</td>\n",
       "    </tr>\n",
       "    <tr>\n",
       "      <th>17</th>\n",
       "      <td>schoolsup</td>\n",
       "      <td>Дополнительная помощь в учебе: yes или no</td>\n",
       "    </tr>\n",
       "    <tr>\n",
       "      <th>18</th>\n",
       "      <td>famsup</td>\n",
       "      <td>Дополнительная помощь в учебе от членов семьи: yes или no</td>\n",
       "    </tr>\n",
       "    <tr>\n",
       "      <th>19</th>\n",
       "      <td>paid</td>\n",
       "      <td>Платные дополнительные занятия по соответствущему курсу ('Math' или 'Por'): yes или no</td>\n",
       "    </tr>\n",
       "    <tr>\n",
       "      <th>20</th>\n",
       "      <td>activities</td>\n",
       "      <td>Внеучебные активности: yes или no</td>\n",
       "    </tr>\n",
       "    <tr>\n",
       "      <th>21</th>\n",
       "      <td>nursery</td>\n",
       "      <td>Ходил в детстве в детский сад: yes или no</td>\n",
       "    </tr>\n",
       "    <tr>\n",
       "      <th>22</th>\n",
       "      <td>higher</td>\n",
       "      <td>Собирается получать высшее образование: yes или no</td>\n",
       "    </tr>\n",
       "    <tr>\n",
       "      <th>23</th>\n",
       "      <td>internet</td>\n",
       "      <td>Есть доступ к всемирной сети из дома: yes или no</td>\n",
       "    </tr>\n",
       "    <tr>\n",
       "      <th>24</th>\n",
       "      <td>romantic</td>\n",
       "      <td>Состоит в романтических отношениях: yes или no</td>\n",
       "    </tr>\n",
       "    <tr>\n",
       "      <th>25</th>\n",
       "      <td>famrel</td>\n",
       "      <td>Отношения в семье: от 1 - очень плохие, до 5 - прекрасные</td>\n",
       "    </tr>\n",
       "    <tr>\n",
       "      <th>26</th>\n",
       "      <td>freetime</td>\n",
       "      <td>Свободное время после занятий: от 1 - очень мало, до 5 - очень много</td>\n",
       "    </tr>\n",
       "    <tr>\n",
       "      <th>27</th>\n",
       "      <td>goout</td>\n",
       "      <td>Проводит время с друзьями: от 1 - очень редко/мало, до 5 - очень часто/много</td>\n",
       "    </tr>\n",
       "    <tr>\n",
       "      <th>28</th>\n",
       "      <td>Dalc</td>\n",
       "      <td>Потребление алкоголя в будни: от 1 - очень мало, до 5 - очень много</td>\n",
       "    </tr>\n",
       "    <tr>\n",
       "      <th>29</th>\n",
       "      <td>Walc</td>\n",
       "      <td>Потребление алкоголя в выходные: от 1 - очень мало, до 5 - очень много</td>\n",
       "    </tr>\n",
       "    <tr>\n",
       "      <th>30</th>\n",
       "      <td>health</td>\n",
       "      <td>Состояние здоровья: от 1 - очень плохое, до 5  - очень хорошее</td>\n",
       "    </tr>\n",
       "    <tr>\n",
       "      <th>31</th>\n",
       "      <td>absences</td>\n",
       "      <td>Число пропусков: сколько раз пропустил занятия в школе</td>\n",
       "    </tr>\n",
       "    <tr>\n",
       "      <th>32</th>\n",
       "      <td>cheating</td>\n",
       "      <td>Списывает ли на тестах: yes или no</td>\n",
       "    </tr>\n",
       "    <tr>\n",
       "      <th>33</th>\n",
       "      <td>G1</td>\n",
       "      <td>Оценка за первое полугодние: от 0 до 20</td>\n",
       "    </tr>\n",
       "    <tr>\n",
       "      <th>34</th>\n",
       "      <td>G2</td>\n",
       "      <td>Оценка за второе полугодие: от 0 до 20</td>\n",
       "    </tr>\n",
       "    <tr>\n",
       "      <th>35</th>\n",
       "      <td>G3</td>\n",
       "      <td>Итоговая оценка: от 0 до 20</td>\n",
       "    </tr>\n",
       "  </tbody>\n",
       "</table>\n",
       "</div>"
      ],
      "text/plain": [
       "       Признак  \\\n",
       "0           ID   \n",
       "1      Subject   \n",
       "2       school   \n",
       "3          sex   \n",
       "4          age   \n",
       "5      address   \n",
       "6      famsize   \n",
       "7      Pstatus   \n",
       "8         Medu   \n",
       "9         Fedu   \n",
       "10        Mjob   \n",
       "11        Fjob   \n",
       "12      reason   \n",
       "13    guardian   \n",
       "14  traveltime   \n",
       "15   studytime   \n",
       "16    failures   \n",
       "17   schoolsup   \n",
       "18      famsup   \n",
       "19        paid   \n",
       "20  activities   \n",
       "21     nursery   \n",
       "22      higher   \n",
       "23    internet   \n",
       "24    romantic   \n",
       "25      famrel   \n",
       "26    freetime   \n",
       "27       goout   \n",
       "28        Dalc   \n",
       "29        Walc   \n",
       "30      health   \n",
       "31    absences   \n",
       "32    cheating   \n",
       "33          G1   \n",
       "34          G2   \n",
       "35          G3   \n",
       "\n",
       "                                                                                                                                                                              Описание  \n",
       "0                                                                                                                                                          Уникальный номер наблюдения  \n",
       "1                                                                                                                             Предмет: 'Math' - математика, 'Por' - португальский язык  \n",
       "2                                                                                                                           Школа: 'GP' - Gabriel Pereira, 'MS' - Mousinho da Silveira  \n",
       "3                                                                                                                                           Пол студента: 'F' - женский, 'M' - мужской  \n",
       "4                                                                                                                                                                     Возраст студента  \n",
       "5                                                                                                                          Место проживания студента: 'U' - в городе, 'R' - за городом  \n",
       "6                                                                                                                              Число членов семьи: 'LE3' - если <= 3, 'GT3' - если > 3  \n",
       "7                                                                                                                       Отношения родителей: 'T' - живут вместе, 'A' - живут раздельно  \n",
       "8                                                 Образование матери: 0 - без образования, 1 - начальная школа, 2 – от 5 до 9 классов, 3 – среднее образование, 4 – высшее образование  \n",
       "9                                                   Образование отца: 0 - без образования, 1 - начальная школа, 2 – от 5 до 9 классов, 3 – среднее образование, 4 – высшее образование  \n",
       "10  Работа матери: 'teacher' - связана с преподаванием, 'health'  - связана с здравоохранением, 'services' - администрация и полиция, 'at_home' - домашняя занятость, 'other' - другое  \n",
       "11    Работа отца: 'teacher' - связана с преподаванием, 'health'  - связана с здравоохранением, 'services' - администрация и полиция, 'at_home' - домашняя занятость, 'other' - другое  \n",
       "12                                Причина, по которой студент выбрал данную школу: 'home' - рядом с домом, 'reputation' - репутация школы, 'course' - читаемые курсы, 'other' - другое  \n",
       "13                                                                                                                Опекун студента (student's guardian): 'mother', 'father' или 'other'  \n",
       "14                                                                             Время в пути от дома до школы: 1 - < 15 мин, 2 - от 15 до 30 мин, 3 - от 30 мин до 1 часа, 4 - > 1 часа  \n",
       "15                                                                        Количество часов на учебу в неделю: 1 - < 2 часов, 2 - от 2 до 5 часов, 3 - от 5 до 10 часов, 4 - > 10 часов  \n",
       "16                                                                                                                Число завалов студента по предыдущим курсам:  n если 0<=n<3, иначе 3  \n",
       "17                                                                                                                                           Дополнительная помощь в учебе: yes или no  \n",
       "18                                                                                                                           Дополнительная помощь в учебе от членов семьи: yes или no  \n",
       "19                                                                                              Платные дополнительные занятия по соответствущему курсу ('Math' или 'Por'): yes или no  \n",
       "20                                                                                                                                                   Внеучебные активности: yes или no  \n",
       "21                                                                                                                                           Ходил в детстве в детский сад: yes или no  \n",
       "22                                                                                                                                  Собирается получать высшее образование: yes или no  \n",
       "23                                                                                                                                    Есть доступ к всемирной сети из дома: yes или no  \n",
       "24                                                                                                                                      Состоит в романтических отношениях: yes или no  \n",
       "25                                                                                                                           Отношения в семье: от 1 - очень плохие, до 5 - прекрасные  \n",
       "26                                                                                                                Свободное время после занятий: от 1 - очень мало, до 5 - очень много  \n",
       "27                                                                                                        Проводит время с друзьями: от 1 - очень редко/мало, до 5 - очень часто/много  \n",
       "28                                                                                                                 Потребление алкоголя в будни: от 1 - очень мало, до 5 - очень много  \n",
       "29                                                                                                              Потребление алкоголя в выходные: от 1 - очень мало, до 5 - очень много  \n",
       "30                                                                                                                      Состояние здоровья: от 1 - очень плохое, до 5  - очень хорошее  \n",
       "31                                                                                                                              Число пропусков: сколько раз пропустил занятия в школе  \n",
       "32                                                                                                                                                  Списывает ли на тестах: yes или no  \n",
       "33                                                                                                                                             Оценка за первое полугодние: от 0 до 20  \n",
       "34                                                                                                                                              Оценка за второе полугодие: от 0 до 20  \n",
       "35                                                                                                                                                         Итоговая оценка: от 0 до 20  "
      ]
     },
     "execution_count": 239,
     "metadata": {},
     "output_type": "execute_result"
    }
   ],
   "source": [
    "pd.read_csv('students_data_features.csv',\n",
    "            delimiter=';',\n",
    "            encoding='windows-1251')"
   ]
  },
  {
   "cell_type": "markdown",
   "metadata": {},
   "source": [
    "<br>  \n",
    "\n",
    "## Задания"
   ]
  },
  {
   "cell_type": "markdown",
   "metadata": {},
   "source": [
    "**NB:** Обратите внимание, что часть студентов посещают оба курса и представлены в данных два раза. Из-за этого некоторые результаты анализа могут быть искажены. Имеет смысл выявить таких студентов заранее ([Задание 11](#task11)) и учитывать эту информацию при анализе."
   ]
  },
  {
   "cell_type": "markdown",
   "metadata": {},
   "source": [
    "### Задание 1  \n",
    "  \n",
    " * Для каждого признака определите, к какому типу он относится.   \n",
    " * Проверьте значения признаков на наличие опечаток и ошибок, исправьте их.<br>\n",
    "   __Note:__ Исправлять ошибки нужно программно, модифицировать руками исходный файл нельзя.\n",
    " * При необходимости, приведите признак к определенному вами типу."
   ]
  },
  {
   "cell_type": "markdown",
   "metadata": {},
   "source": [
    "### 1 пункт, типы признаков\n",
    "0. ID - числовой дискретный\n",
    "1. Subject - бинарный категориальный\n",
    "2. school - бинарный категориальный\n",
    "3. sex - бинарный категориальный\n",
    "4. age - числовой дискретный\n",
    "5. address - бинарный категориальный\n",
    "6. famsize - бинарный категориальный\n",
    "7. Pstatus - бинарный категориальный\n",
    "8. Medu - упорядоченный категориальный\n",
    "9. Fedu - упорядоченный категориальный\n",
    "10. Mjob - обычный категориальный\n",
    "11. Fjob - обычный категориальный\n",
    "12. reason - обычный категориальный\n",
    "13. guardian - обычный категориальный\n",
    "14. traveltime - упорядоченный категориальный\n",
    "15. studytime - упорядоченный категориальный\n",
    "16. failures - упорядоченный категориальный\n",
    "17. schoolsup - бинарный категориальный\n",
    "18. famsup - бинарный категориальный\n",
    "19. paid - бинарный категориальный\n",
    "20. activities - бинарный категориальный\n",
    "21. nursery - бинарный категориальный\n",
    "22. higher - бинарный категориальный\n",
    "23. internet - бинарный категориальный\n",
    "24. romantic - упорядоченный категориальный\n",
    "25. famrel - упорядоченный категориальный\n",
    "26. freetime - упорядоченный категориальный\n",
    "27. goout - упорядоченный категориальный\n",
    "28. Dalc - упорядоченный категориальный\n",
    "29. Walc - упорядоченный категориальный\n",
    "30. health - упорядоченный категориальный\n",
    "31. absences - числовой дискретный\n",
    "32. cheating - бинарный категориальный\n",
    "33. G1 - числовой дискретный\n",
    "34. G2 - числовой дискретный\n",
    "35. G3 - числовой дискретный"
   ]
  },
  {
   "cell_type": "code",
   "execution_count": 240,
   "metadata": {
    "pycharm": {
     "is_executing": false
    }
   },
   "outputs": [],
   "source": [
    "# заменим NAN на среднее, где необходимо\n",
    "# А cheating, где NAN сделаем \"no\", потому что, как говрится: \"Не пойман - не вор!\"\n",
    "# В в 'romantic' заменяем на 'no', \n",
    "# так как люди, не ответившие на данный вопрос, \n",
    "# скорее всего не имеют отношений:)\n",
    "\n",
    "data['famrel'].fillna(round(data['famrel'].mean()), inplace=True)\n",
    "data['Dalc'].fillna(round(data['famrel'].mean()), inplace=True)\n",
    "data['Walc'].fillna(round(data['famrel'].mean()), inplace=True)\n",
    "data[\"romantic\"].fillna(\"no\", inplace=True)\n",
    "data[\"cheating\"].fillna(\"no\", inplace=True)\n",
    "# исправим ошибки\n",
    "data.sex.replace(\"m\", \"M\", inplace=True)\n",
    "data.Pstatus.replace(\"t\", \"T\", inplace=True)\n",
    "data.replace(\"at-home\", \"at_home\", inplace=True)\n",
    "data.guardian.replace(\"futher\", \"father\", inplace=True)\n",
    "data.replace(\"no\", False, inplace=True)\n",
    "data.replace(\"yes\", True, inplace=True)\n",
    "data.replace(\"o\", \"0\", inplace=True)\n",
    "\n",
    "# заменим \"неправильные\" типы\n",
    "data['Medu'] = data['Medu'].apply(pd.to_numeric, errors='coerce', downcast='integer')\n",
    "data['Fedu'] = data['Fedu'].apply(pd.to_numeric, errors='coerce', downcast='integer')\n",
    "data['famrel'] = data.famrel.astype('int64')\n",
    "data['Dalc'] = data.Dalc.astype('int64')\n",
    "data['Walc'] = data.Walc.astype('int64')"
   ]
  },
  {
   "cell_type": "markdown",
   "metadata": {},
   "source": [
    "### Задание 2  \n",
    "  \n",
    "Проверьте, присутствуют ли в данных пропущенные значения. Сколько? В каких признаках?  \n",
    "По каждому такому признаку предложите и обоснуйте, что делать с пропущенными значениями."
   ]
  },
  {
   "cell_type": "code",
   "execution_count": 241,
   "metadata": {
    "pycharm": {
     "is_executing": false
    }
   },
   "outputs": [
    {
     "data": {
      "text/plain": [
       "ID            0\n",
       "Subject       0\n",
       "school        0\n",
       "sex           0\n",
       "age           0\n",
       "address       0\n",
       "famsize       0\n",
       "Pstatus       0\n",
       "Medu          0\n",
       "Fedu          0\n",
       "Mjob          0\n",
       "Fjob          0\n",
       "reason        0\n",
       "guardian      0\n",
       "traveltime    0\n",
       "studytime     0\n",
       "failures      0\n",
       "schoolsup     0\n",
       "famsup        0\n",
       "paid          0\n",
       "activities    0\n",
       "nursery       0\n",
       "higher        0\n",
       "internet      0\n",
       "romantic      0\n",
       "famrel        0\n",
       "freetime      0\n",
       "goout         0\n",
       "Dalc          0\n",
       "Walc          0\n",
       "health        0\n",
       "absences      0\n",
       "cheating      0\n",
       "G1            0\n",
       "G2            0\n",
       "G3            0\n",
       "dtype: int64"
      ]
     },
     "execution_count": 241,
     "metadata": {},
     "output_type": "execute_result"
    }
   ],
   "source": [
    "data.isna().sum()\n",
    "# Как видно, пропущенных значений больше нет, потому что всех их мы уже обработали на предыдущем этапе..."
   ]
  },
  {
   "cell_type": "markdown",
   "metadata": {},
   "source": [
    "### Задание 3  \n",
    "  \n",
    "Проанализируйте данные на наличие выбросов.   \n",
    "Сколько наблюдений можно отнести к выбросам по каждому признаку? Сколько всего выбросов в данных?  \n",
    "  \n",
    "**Note:** Выбросы можно не удалять из данных. Это информацию можно учитывать в дальнейшем анализе и удалять выбросы при необходимости. "
   ]
  },
  {
   "cell_type": "code",
   "execution_count": 301,
   "metadata": {
    "pycharm": {
     "is_executing": false
    }
   },
   "outputs": [
    {
     "data": {
      "image/png": "[encoded data removed]",
      "text/plain": [
       "<Figure size 432x288 with 1 Axes>"
      ]
     },
     "metadata": {
      "needs_background": "light"
     },
     "output_type": "display_data"
    }
   ],
   "source": [
    "plt.boxplot([data[\"G1\"], data[\"G2\"], data[\"G3\"]])\n",
    "plt.show()"
   ]
  },
  {
   "cell_type": "markdown",
   "metadata": {},
   "source": [
    "Как видно из графиков - присутствуют выбросы на значениях близких к нулю для оценок."
   ]
  },
  {
   "cell_type": "markdown",
   "metadata": {},
   "source": [
    "### Задание 4 \n",
    "  \n",
    "* Посчитайте описательные статистики для числовых и для категориальных признаков. \n",
    "* Сколько студентов посещают каждую из школ?  \n",
    "* Сколько студентов посещают математику, сколько - португальский?  \n",
    "* Студенты какого курса чаще заваливают экзамены?  \n",
    "* Сколько в среднем времени в неделю уходит на учебу по каждому предмету?  \n",
    "* На что чаще обращают внимание при выборе школы?"
   ]
  },
  {
   "cell_type": "markdown",
   "metadata": {},
   "source": [
    "### Сделаем 11 задание первым делом!"
   ]
  },
  {
   "cell_type": "code",
   "execution_count": 243,
   "metadata": {},
   "outputs": [],
   "source": [
    "df_no_repeat = data.copy(deep=True)\n",
    "# у студентов ,которые посещали два курса разные только колонки с предметом, оценками и айдишниками, дропним их\n",
    "del df_no_repeat['ID']\n",
    "del df_no_repeat['Subject']\n",
    "del df_no_repeat['G1']\n",
    "del df_no_repeat['G2']\n",
    "del df_no_repeat['G3']\n",
    "# дропним дубликаты\n",
    "df_no_repeat = df_no_repeat.drop_duplicates()\n",
    "\n",
    "df_no_repeat['Subject'] = pd.Series(data['Subject'], index=df_no_repeat.index)\n",
    "df_no_repeat['G1'] = pd.Series(data['G1'], index=df_no_repeat.index)\n",
    "df_no_repeat['G2'] = pd.Series(data['G2'], index=df_no_repeat.index)\n",
    "df_no_repeat['G3'] = pd.Series(data['G3'], index=df_no_repeat.index)"
   ]
  },
  {
   "cell_type": "markdown",
   "metadata": {},
   "source": [
    "### Задание 4.1\n",
    "Посчитайте описательные статистики для числовых и для категориальных признаков."
   ]
  },
  {
   "cell_type": "code",
   "execution_count": 244,
   "metadata": {
    "pycharm": {
     "is_executing": false
    },
    "scrolled": true
   },
   "outputs": [
    {
     "data": {
      "text/html": [
       "<div>\n",
       "<style scoped>\n",
       "    .dataframe tbody tr th:only-of-type {\n",
       "        vertical-align: middle;\n",
       "    }\n",
       "\n",
       "    .dataframe tbody tr th {\n",
       "        vertical-align: top;\n",
       "    }\n",
       "\n",
       "    .dataframe thead th {\n",
       "        text-align: right;\n",
       "    }\n",
       "</style>\n",
       "<table border=\"1\" class=\"dataframe\">\n",
       "  <thead>\n",
       "    <tr style=\"text-align: right;\">\n",
       "      <th></th>\n",
       "      <th>school</th>\n",
       "      <th>sex</th>\n",
       "      <th>age</th>\n",
       "      <th>address</th>\n",
       "      <th>famsize</th>\n",
       "      <th>Pstatus</th>\n",
       "      <th>Medu</th>\n",
       "      <th>Fedu</th>\n",
       "      <th>Mjob</th>\n",
       "      <th>Fjob</th>\n",
       "      <th>reason</th>\n",
       "      <th>guardian</th>\n",
       "      <th>traveltime</th>\n",
       "      <th>studytime</th>\n",
       "      <th>failures</th>\n",
       "      <th>schoolsup</th>\n",
       "      <th>famsup</th>\n",
       "      <th>paid</th>\n",
       "      <th>activities</th>\n",
       "      <th>nursery</th>\n",
       "      <th>higher</th>\n",
       "      <th>internet</th>\n",
       "      <th>romantic</th>\n",
       "      <th>famrel</th>\n",
       "      <th>freetime</th>\n",
       "      <th>goout</th>\n",
       "      <th>Dalc</th>\n",
       "      <th>Walc</th>\n",
       "      <th>health</th>\n",
       "      <th>absences</th>\n",
       "      <th>cheating</th>\n",
       "      <th>Subject</th>\n",
       "      <th>G1</th>\n",
       "      <th>G2</th>\n",
       "      <th>G3</th>\n",
       "    </tr>\n",
       "  </thead>\n",
       "  <tbody>\n",
       "    <tr>\n",
       "      <th>count</th>\n",
       "      <td>1015</td>\n",
       "      <td>1015</td>\n",
       "      <td>1015.000000</td>\n",
       "      <td>1015</td>\n",
       "      <td>1015</td>\n",
       "      <td>1015</td>\n",
       "      <td>1015.000000</td>\n",
       "      <td>1015.000000</td>\n",
       "      <td>1015</td>\n",
       "      <td>1015</td>\n",
       "      <td>1015</td>\n",
       "      <td>1015</td>\n",
       "      <td>1015.000000</td>\n",
       "      <td>1015.000000</td>\n",
       "      <td>1015.000000</td>\n",
       "      <td>1015</td>\n",
       "      <td>1015</td>\n",
       "      <td>1015</td>\n",
       "      <td>1015</td>\n",
       "      <td>1015</td>\n",
       "      <td>1015</td>\n",
       "      <td>1015</td>\n",
       "      <td>1015</td>\n",
       "      <td>1015.000000</td>\n",
       "      <td>1015.000000</td>\n",
       "      <td>1015.000000</td>\n",
       "      <td>1015.000000</td>\n",
       "      <td>1015.000000</td>\n",
       "      <td>1015.000000</td>\n",
       "      <td>1015.000000</td>\n",
       "      <td>1015</td>\n",
       "      <td>1015</td>\n",
       "      <td>1015.000000</td>\n",
       "      <td>1015.000000</td>\n",
       "      <td>1015.000000</td>\n",
       "    </tr>\n",
       "    <tr>\n",
       "      <th>unique</th>\n",
       "      <td>2</td>\n",
       "      <td>2</td>\n",
       "      <td>NaN</td>\n",
       "      <td>2</td>\n",
       "      <td>2</td>\n",
       "      <td>2</td>\n",
       "      <td>NaN</td>\n",
       "      <td>NaN</td>\n",
       "      <td>5</td>\n",
       "      <td>5</td>\n",
       "      <td>4</td>\n",
       "      <td>3</td>\n",
       "      <td>NaN</td>\n",
       "      <td>NaN</td>\n",
       "      <td>NaN</td>\n",
       "      <td>2</td>\n",
       "      <td>2</td>\n",
       "      <td>2</td>\n",
       "      <td>2</td>\n",
       "      <td>2</td>\n",
       "      <td>2</td>\n",
       "      <td>2</td>\n",
       "      <td>2</td>\n",
       "      <td>NaN</td>\n",
       "      <td>NaN</td>\n",
       "      <td>NaN</td>\n",
       "      <td>NaN</td>\n",
       "      <td>NaN</td>\n",
       "      <td>NaN</td>\n",
       "      <td>NaN</td>\n",
       "      <td>2</td>\n",
       "      <td>2</td>\n",
       "      <td>NaN</td>\n",
       "      <td>NaN</td>\n",
       "      <td>NaN</td>\n",
       "    </tr>\n",
       "    <tr>\n",
       "      <th>top</th>\n",
       "      <td>GP</td>\n",
       "      <td>F</td>\n",
       "      <td>NaN</td>\n",
       "      <td>U</td>\n",
       "      <td>GT3</td>\n",
       "      <td>T</td>\n",
       "      <td>NaN</td>\n",
       "      <td>NaN</td>\n",
       "      <td>other</td>\n",
       "      <td>other</td>\n",
       "      <td>course</td>\n",
       "      <td>mother</td>\n",
       "      <td>NaN</td>\n",
       "      <td>NaN</td>\n",
       "      <td>NaN</td>\n",
       "      <td>False</td>\n",
       "      <td>True</td>\n",
       "      <td>False</td>\n",
       "      <td>False</td>\n",
       "      <td>True</td>\n",
       "      <td>True</td>\n",
       "      <td>True</td>\n",
       "      <td>False</td>\n",
       "      <td>NaN</td>\n",
       "      <td>NaN</td>\n",
       "      <td>NaN</td>\n",
       "      <td>NaN</td>\n",
       "      <td>NaN</td>\n",
       "      <td>NaN</td>\n",
       "      <td>NaN</td>\n",
       "      <td>False</td>\n",
       "      <td>Por</td>\n",
       "      <td>NaN</td>\n",
       "      <td>NaN</td>\n",
       "      <td>NaN</td>\n",
       "    </tr>\n",
       "    <tr>\n",
       "      <th>freq</th>\n",
       "      <td>747</td>\n",
       "      <td>575</td>\n",
       "      <td>NaN</td>\n",
       "      <td>736</td>\n",
       "      <td>718</td>\n",
       "      <td>896</td>\n",
       "      <td>NaN</td>\n",
       "      <td>NaN</td>\n",
       "      <td>386</td>\n",
       "      <td>571</td>\n",
       "      <td>418</td>\n",
       "      <td>711</td>\n",
       "      <td>NaN</td>\n",
       "      <td>NaN</td>\n",
       "      <td>NaN</td>\n",
       "      <td>901</td>\n",
       "      <td>627</td>\n",
       "      <td>797</td>\n",
       "      <td>512</td>\n",
       "      <td>814</td>\n",
       "      <td>926</td>\n",
       "      <td>806</td>\n",
       "      <td>650</td>\n",
       "      <td>NaN</td>\n",
       "      <td>NaN</td>\n",
       "      <td>NaN</td>\n",
       "      <td>NaN</td>\n",
       "      <td>NaN</td>\n",
       "      <td>NaN</td>\n",
       "      <td>NaN</td>\n",
       "      <td>841</td>\n",
       "      <td>633</td>\n",
       "      <td>NaN</td>\n",
       "      <td>NaN</td>\n",
       "      <td>NaN</td>\n",
       "    </tr>\n",
       "    <tr>\n",
       "      <th>mean</th>\n",
       "      <td>NaN</td>\n",
       "      <td>NaN</td>\n",
       "      <td>16.739901</td>\n",
       "      <td>NaN</td>\n",
       "      <td>NaN</td>\n",
       "      <td>NaN</td>\n",
       "      <td>2.599015</td>\n",
       "      <td>2.380296</td>\n",
       "      <td>NaN</td>\n",
       "      <td>NaN</td>\n",
       "      <td>NaN</td>\n",
       "      <td>NaN</td>\n",
       "      <td>1.527094</td>\n",
       "      <td>1.972414</td>\n",
       "      <td>0.266995</td>\n",
       "      <td>NaN</td>\n",
       "      <td>NaN</td>\n",
       "      <td>NaN</td>\n",
       "      <td>NaN</td>\n",
       "      <td>NaN</td>\n",
       "      <td>NaN</td>\n",
       "      <td>NaN</td>\n",
       "      <td>NaN</td>\n",
       "      <td>3.926108</td>\n",
       "      <td>3.200000</td>\n",
       "      <td>3.170443</td>\n",
       "      <td>1.528079</td>\n",
       "      <td>2.311330</td>\n",
       "      <td>3.549754</td>\n",
       "      <td>4.494581</td>\n",
       "      <td>NaN</td>\n",
       "      <td>NaN</td>\n",
       "      <td>11.184236</td>\n",
       "      <td>11.223645</td>\n",
       "      <td>11.314286</td>\n",
       "    </tr>\n",
       "    <tr>\n",
       "      <th>std</th>\n",
       "      <td>NaN</td>\n",
       "      <td>NaN</td>\n",
       "      <td>1.239287</td>\n",
       "      <td>NaN</td>\n",
       "      <td>NaN</td>\n",
       "      <td>NaN</td>\n",
       "      <td>1.120809</td>\n",
       "      <td>1.098325</td>\n",
       "      <td>NaN</td>\n",
       "      <td>NaN</td>\n",
       "      <td>NaN</td>\n",
       "      <td>NaN</td>\n",
       "      <td>0.733130</td>\n",
       "      <td>0.836323</td>\n",
       "      <td>0.657714</td>\n",
       "      <td>NaN</td>\n",
       "      <td>NaN</td>\n",
       "      <td>NaN</td>\n",
       "      <td>NaN</td>\n",
       "      <td>NaN</td>\n",
       "      <td>NaN</td>\n",
       "      <td>NaN</td>\n",
       "      <td>NaN</td>\n",
       "      <td>0.930238</td>\n",
       "      <td>1.036037</td>\n",
       "      <td>1.151071</td>\n",
       "      <td>0.950941</td>\n",
       "      <td>1.290849</td>\n",
       "      <td>1.421599</td>\n",
       "      <td>6.256493</td>\n",
       "      <td>NaN</td>\n",
       "      <td>NaN</td>\n",
       "      <td>2.970026</td>\n",
       "      <td>3.284990</td>\n",
       "      <td>3.866707</td>\n",
       "    </tr>\n",
       "    <tr>\n",
       "      <th>min</th>\n",
       "      <td>NaN</td>\n",
       "      <td>NaN</td>\n",
       "      <td>15.000000</td>\n",
       "      <td>NaN</td>\n",
       "      <td>NaN</td>\n",
       "      <td>NaN</td>\n",
       "      <td>0.000000</td>\n",
       "      <td>0.000000</td>\n",
       "      <td>NaN</td>\n",
       "      <td>NaN</td>\n",
       "      <td>NaN</td>\n",
       "      <td>NaN</td>\n",
       "      <td>1.000000</td>\n",
       "      <td>1.000000</td>\n",
       "      <td>0.000000</td>\n",
       "      <td>NaN</td>\n",
       "      <td>NaN</td>\n",
       "      <td>NaN</td>\n",
       "      <td>NaN</td>\n",
       "      <td>NaN</td>\n",
       "      <td>NaN</td>\n",
       "      <td>NaN</td>\n",
       "      <td>NaN</td>\n",
       "      <td>1.000000</td>\n",
       "      <td>1.000000</td>\n",
       "      <td>1.000000</td>\n",
       "      <td>1.000000</td>\n",
       "      <td>1.000000</td>\n",
       "      <td>1.000000</td>\n",
       "      <td>0.000000</td>\n",
       "      <td>NaN</td>\n",
       "      <td>NaN</td>\n",
       "      <td>0.000000</td>\n",
       "      <td>0.000000</td>\n",
       "      <td>0.000000</td>\n",
       "    </tr>\n",
       "    <tr>\n",
       "      <th>25%</th>\n",
       "      <td>NaN</td>\n",
       "      <td>NaN</td>\n",
       "      <td>16.000000</td>\n",
       "      <td>NaN</td>\n",
       "      <td>NaN</td>\n",
       "      <td>NaN</td>\n",
       "      <td>2.000000</td>\n",
       "      <td>1.000000</td>\n",
       "      <td>NaN</td>\n",
       "      <td>NaN</td>\n",
       "      <td>NaN</td>\n",
       "      <td>NaN</td>\n",
       "      <td>1.000000</td>\n",
       "      <td>1.000000</td>\n",
       "      <td>0.000000</td>\n",
       "      <td>NaN</td>\n",
       "      <td>NaN</td>\n",
       "      <td>NaN</td>\n",
       "      <td>NaN</td>\n",
       "      <td>NaN</td>\n",
       "      <td>NaN</td>\n",
       "      <td>NaN</td>\n",
       "      <td>NaN</td>\n",
       "      <td>4.000000</td>\n",
       "      <td>3.000000</td>\n",
       "      <td>2.000000</td>\n",
       "      <td>1.000000</td>\n",
       "      <td>1.000000</td>\n",
       "      <td>3.000000</td>\n",
       "      <td>0.000000</td>\n",
       "      <td>NaN</td>\n",
       "      <td>NaN</td>\n",
       "      <td>9.000000</td>\n",
       "      <td>9.000000</td>\n",
       "      <td>10.000000</td>\n",
       "    </tr>\n",
       "    <tr>\n",
       "      <th>50%</th>\n",
       "      <td>NaN</td>\n",
       "      <td>NaN</td>\n",
       "      <td>17.000000</td>\n",
       "      <td>NaN</td>\n",
       "      <td>NaN</td>\n",
       "      <td>NaN</td>\n",
       "      <td>3.000000</td>\n",
       "      <td>2.000000</td>\n",
       "      <td>NaN</td>\n",
       "      <td>NaN</td>\n",
       "      <td>NaN</td>\n",
       "      <td>NaN</td>\n",
       "      <td>1.000000</td>\n",
       "      <td>2.000000</td>\n",
       "      <td>0.000000</td>\n",
       "      <td>NaN</td>\n",
       "      <td>NaN</td>\n",
       "      <td>NaN</td>\n",
       "      <td>NaN</td>\n",
       "      <td>NaN</td>\n",
       "      <td>NaN</td>\n",
       "      <td>NaN</td>\n",
       "      <td>NaN</td>\n",
       "      <td>4.000000</td>\n",
       "      <td>3.000000</td>\n",
       "      <td>3.000000</td>\n",
       "      <td>1.000000</td>\n",
       "      <td>2.000000</td>\n",
       "      <td>4.000000</td>\n",
       "      <td>2.000000</td>\n",
       "      <td>NaN</td>\n",
       "      <td>NaN</td>\n",
       "      <td>11.000000</td>\n",
       "      <td>11.000000</td>\n",
       "      <td>11.000000</td>\n",
       "    </tr>\n",
       "    <tr>\n",
       "      <th>75%</th>\n",
       "      <td>NaN</td>\n",
       "      <td>NaN</td>\n",
       "      <td>18.000000</td>\n",
       "      <td>NaN</td>\n",
       "      <td>NaN</td>\n",
       "      <td>NaN</td>\n",
       "      <td>4.000000</td>\n",
       "      <td>3.000000</td>\n",
       "      <td>NaN</td>\n",
       "      <td>NaN</td>\n",
       "      <td>NaN</td>\n",
       "      <td>NaN</td>\n",
       "      <td>2.000000</td>\n",
       "      <td>2.000000</td>\n",
       "      <td>0.000000</td>\n",
       "      <td>NaN</td>\n",
       "      <td>NaN</td>\n",
       "      <td>NaN</td>\n",
       "      <td>NaN</td>\n",
       "      <td>NaN</td>\n",
       "      <td>NaN</td>\n",
       "      <td>NaN</td>\n",
       "      <td>NaN</td>\n",
       "      <td>5.000000</td>\n",
       "      <td>4.000000</td>\n",
       "      <td>4.000000</td>\n",
       "      <td>2.000000</td>\n",
       "      <td>3.000000</td>\n",
       "      <td>5.000000</td>\n",
       "      <td>6.000000</td>\n",
       "      <td>NaN</td>\n",
       "      <td>NaN</td>\n",
       "      <td>13.000000</td>\n",
       "      <td>13.000000</td>\n",
       "      <td>14.000000</td>\n",
       "    </tr>\n",
       "    <tr>\n",
       "      <th>max</th>\n",
       "      <td>NaN</td>\n",
       "      <td>NaN</td>\n",
       "      <td>22.000000</td>\n",
       "      <td>NaN</td>\n",
       "      <td>NaN</td>\n",
       "      <td>NaN</td>\n",
       "      <td>4.000000</td>\n",
       "      <td>4.000000</td>\n",
       "      <td>NaN</td>\n",
       "      <td>NaN</td>\n",
       "      <td>NaN</td>\n",
       "      <td>NaN</td>\n",
       "      <td>4.000000</td>\n",
       "      <td>4.000000</td>\n",
       "      <td>3.000000</td>\n",
       "      <td>NaN</td>\n",
       "      <td>NaN</td>\n",
       "      <td>NaN</td>\n",
       "      <td>NaN</td>\n",
       "      <td>NaN</td>\n",
       "      <td>NaN</td>\n",
       "      <td>NaN</td>\n",
       "      <td>NaN</td>\n",
       "      <td>5.000000</td>\n",
       "      <td>5.000000</td>\n",
       "      <td>5.000000</td>\n",
       "      <td>5.000000</td>\n",
       "      <td>5.000000</td>\n",
       "      <td>5.000000</td>\n",
       "      <td>75.000000</td>\n",
       "      <td>NaN</td>\n",
       "      <td>NaN</td>\n",
       "      <td>19.000000</td>\n",
       "      <td>19.000000</td>\n",
       "      <td>20.000000</td>\n",
       "    </tr>\n",
       "  </tbody>\n",
       "</table>\n",
       "</div>"
      ],
      "text/plain": [
       "       school   sex          age address famsize Pstatus         Medu  \\\n",
       "count    1015  1015  1015.000000    1015    1015    1015  1015.000000   \n",
       "unique      2     2          NaN       2       2       2          NaN   \n",
       "top        GP     F          NaN       U     GT3       T          NaN   \n",
       "freq      747   575          NaN     736     718     896          NaN   \n",
       "mean      NaN   NaN    16.739901     NaN     NaN     NaN     2.599015   \n",
       "std       NaN   NaN     1.239287     NaN     NaN     NaN     1.120809   \n",
       "min       NaN   NaN    15.000000     NaN     NaN     NaN     0.000000   \n",
       "25%       NaN   NaN    16.000000     NaN     NaN     NaN     2.000000   \n",
       "50%       NaN   NaN    17.000000     NaN     NaN     NaN     3.000000   \n",
       "75%       NaN   NaN    18.000000     NaN     NaN     NaN     4.000000   \n",
       "max       NaN   NaN    22.000000     NaN     NaN     NaN     4.000000   \n",
       "\n",
       "               Fedu   Mjob   Fjob  reason guardian   traveltime    studytime  \\\n",
       "count   1015.000000   1015   1015    1015     1015  1015.000000  1015.000000   \n",
       "unique          NaN      5      5       4        3          NaN          NaN   \n",
       "top             NaN  other  other  course   mother          NaN          NaN   \n",
       "freq            NaN    386    571     418      711          NaN          NaN   \n",
       "mean       2.380296    NaN    NaN     NaN      NaN     1.527094     1.972414   \n",
       "std        1.098325    NaN    NaN     NaN      NaN     0.733130     0.836323   \n",
       "min        0.000000    NaN    NaN     NaN      NaN     1.000000     1.000000   \n",
       "25%        1.000000    NaN    NaN     NaN      NaN     1.000000     1.000000   \n",
       "50%        2.000000    NaN    NaN     NaN      NaN     1.000000     2.000000   \n",
       "75%        3.000000    NaN    NaN     NaN      NaN     2.000000     2.000000   \n",
       "max        4.000000    NaN    NaN     NaN      NaN     4.000000     4.000000   \n",
       "\n",
       "           failures schoolsup famsup   paid activities nursery higher  \\\n",
       "count   1015.000000      1015   1015   1015       1015    1015   1015   \n",
       "unique          NaN         2      2      2          2       2      2   \n",
       "top             NaN     False   True  False      False    True   True   \n",
       "freq            NaN       901    627    797        512     814    926   \n",
       "mean       0.266995       NaN    NaN    NaN        NaN     NaN    NaN   \n",
       "std        0.657714       NaN    NaN    NaN        NaN     NaN    NaN   \n",
       "min        0.000000       NaN    NaN    NaN        NaN     NaN    NaN   \n",
       "25%        0.000000       NaN    NaN    NaN        NaN     NaN    NaN   \n",
       "50%        0.000000       NaN    NaN    NaN        NaN     NaN    NaN   \n",
       "75%        0.000000       NaN    NaN    NaN        NaN     NaN    NaN   \n",
       "max        3.000000       NaN    NaN    NaN        NaN     NaN    NaN   \n",
       "\n",
       "       internet romantic       famrel     freetime        goout         Dalc  \\\n",
       "count      1015     1015  1015.000000  1015.000000  1015.000000  1015.000000   \n",
       "unique        2        2          NaN          NaN          NaN          NaN   \n",
       "top        True    False          NaN          NaN          NaN          NaN   \n",
       "freq        806      650          NaN          NaN          NaN          NaN   \n",
       "mean        NaN      NaN     3.926108     3.200000     3.170443     1.528079   \n",
       "std         NaN      NaN     0.930238     1.036037     1.151071     0.950941   \n",
       "min         NaN      NaN     1.000000     1.000000     1.000000     1.000000   \n",
       "25%         NaN      NaN     4.000000     3.000000     2.000000     1.000000   \n",
       "50%         NaN      NaN     4.000000     3.000000     3.000000     1.000000   \n",
       "75%         NaN      NaN     5.000000     4.000000     4.000000     2.000000   \n",
       "max         NaN      NaN     5.000000     5.000000     5.000000     5.000000   \n",
       "\n",
       "               Walc       health     absences cheating Subject           G1  \\\n",
       "count   1015.000000  1015.000000  1015.000000     1015    1015  1015.000000   \n",
       "unique          NaN          NaN          NaN        2       2          NaN   \n",
       "top             NaN          NaN          NaN    False     Por          NaN   \n",
       "freq            NaN          NaN          NaN      841     633          NaN   \n",
       "mean       2.311330     3.549754     4.494581      NaN     NaN    11.184236   \n",
       "std        1.290849     1.421599     6.256493      NaN     NaN     2.970026   \n",
       "min        1.000000     1.000000     0.000000      NaN     NaN     0.000000   \n",
       "25%        1.000000     3.000000     0.000000      NaN     NaN     9.000000   \n",
       "50%        2.000000     4.000000     2.000000      NaN     NaN    11.000000   \n",
       "75%        3.000000     5.000000     6.000000      NaN     NaN    13.000000   \n",
       "max        5.000000     5.000000    75.000000      NaN     NaN    19.000000   \n",
       "\n",
       "                 G2           G3  \n",
       "count   1015.000000  1015.000000  \n",
       "unique          NaN          NaN  \n",
       "top             NaN          NaN  \n",
       "freq            NaN          NaN  \n",
       "mean      11.223645    11.314286  \n",
       "std        3.284990     3.866707  \n",
       "min        0.000000     0.000000  \n",
       "25%        9.000000    10.000000  \n",
       "50%       11.000000    11.000000  \n",
       "75%       13.000000    14.000000  \n",
       "max       19.000000    20.000000  "
      ]
     },
     "execution_count": 244,
     "metadata": {},
     "output_type": "execute_result"
    }
   ],
   "source": [
    "df_no_repeat.describe(include=\"all\")"
   ]
  },
  {
   "cell_type": "markdown",
   "metadata": {},
   "source": [
    "### Задание 4.2\n",
    "Сколько студентов посещают каждую из школ?"
   ]
  },
  {
   "cell_type": "code",
   "execution_count": 245,
   "metadata": {},
   "outputs": [
    {
     "data": {
      "text/plain": [
       "GP    747\n",
       "MS    268\n",
       "Name: school, dtype: int64"
      ]
     },
     "execution_count": 245,
     "metadata": {},
     "output_type": "execute_result"
    }
   ],
   "source": [
    "df_no_repeat['school'].value_counts()"
   ]
  },
  {
   "cell_type": "markdown",
   "metadata": {},
   "source": [
    "### Задание 4.3\n",
    "Сколько студентов посещают математику, сколько - португальский?"
   ]
  },
  {
   "cell_type": "code",
   "execution_count": 246,
   "metadata": {},
   "outputs": [
    {
     "data": {
      "text/plain": [
       "Por     633\n",
       "Math    382\n",
       "Name: Subject, dtype: int64"
      ]
     },
     "execution_count": 246,
     "metadata": {},
     "output_type": "execute_result"
    }
   ],
   "source": [
    "df_no_repeat['Subject'].value_counts()"
   ]
  },
  {
   "cell_type": "markdown",
   "metadata": {},
   "source": [
    "### Задание 4.4\n",
    "Студенты какого курса чаще заваливают экзамены?"
   ]
  },
  {
   "cell_type": "code",
   "execution_count": 247,
   "metadata": {},
   "outputs": [
    {
     "name": "stdout",
     "output_type": "stream",
     "text": [
      "Por:  143 \n",
      "Math:  128\n",
      "Чаще студенты португальского заваливают экзамены!\n"
     ]
    }
   ],
   "source": [
    "por_fail_count = pd.DataFrame(df_no_repeat.loc[(data['Subject'] == 'Por') & \n",
    "                                      (data['failures'] > 0)])['failures'].sum()\n",
    "math_fail_count = pd.DataFrame(df_no_repeat.loc[(data['Subject'] == 'Math') & \n",
    "                                       (data['failures'] > 0)])['failures'].sum()\n",
    "print(\"Por: \", por_fail_count, \"\\nMath: \", math_fail_count)\n",
    "if por_fail_count > math_fail_count:\n",
    "    print(\"Чаще студенты португальского заваливают экзамены!\")\n",
    "elif por_fail_count < math_fail_count:\n",
    "    print(\"Чаще студенты матаматики заваливают экзамены!\")\n",
    "else:\n",
    "    print(\"И те хороши и другие!\")"
   ]
  },
  {
   "cell_type": "markdown",
   "metadata": {},
   "source": [
    "### Задание 4.5\n",
    "Сколько в среднем времени в неделю уходит на учебу по каждому предмету?"
   ]
  },
  {
   "cell_type": "code",
   "execution_count": 248,
   "metadata": {},
   "outputs": [
    {
     "name": "stdout",
     "output_type": "stream",
     "text": [
      "Por:  Среднее время занятия: от 2 до 5 часов в неделю\n",
      "Math:  Среднее время занятия: от 5 до 10 часов в неделю\n"
     ]
    }
   ],
   "source": [
    "por_time = pd.DataFrame(df_no_repeat.loc[(df_no_repeat['Subject'] == 'Por')]\n",
    "                                          )['studytime'].mean()\n",
    "math_time = pd.DataFrame(df_no_repeat.loc[(df_no_repeat['Subject'] == 'Math')]\n",
    "                                           )['studytime'].mean()\n",
    "def print_average(subject):\n",
    "    av = \"Среднее время занятия: \"\n",
    "    if float(subject) <= 1.0:\n",
    "        return av + 'меньше 2 часов в неделю'\n",
    "    elif 1.0 < float(subject) <= 2.0:\n",
    "        return av + 'от 2 до 5 часов в неделю'\n",
    "    elif 2.0 < float(subject) <= 3.0:\n",
    "        return av + 'от 5 до 10 часов в неделю'\n",
    "    else:\n",
    "        return av + 'больше 10 часов в неделю'\n",
    "print(\"Por: \", print_average(por_time))\n",
    "print(\"Math: \", print_average(math_time))"
   ]
  },
  {
   "cell_type": "markdown",
   "metadata": {},
   "source": [
    "### Задание 4.6\n",
    "На что чаще обращают внимание при выборе школы?"
   ]
  },
  {
   "cell_type": "code",
   "execution_count": 249,
   "metadata": {},
   "outputs": [
    {
     "name": "stdout",
     "output_type": "stream",
     "text": [
      "чаще обращают внимание при выборе школы на: course\n"
     ]
    }
   ],
   "source": [
    "reason = df_no_repeat['reason'].describe().to_list()[2]\n",
    "print(\"чаще обращают внимание при выборе школы на: \" + reason)"
   ]
  },
  {
   "cell_type": "markdown",
   "metadata": {},
   "source": [
    "### Задание 5  \n",
    "  \n",
    "Оцените распределение оценок (отдельно для `G1`, `G2` и `G3`). Сравните распределения для разных предметов - математики и португальского языка. Сделайте выводы.  \n",
    "  \n",
    "**Tip:** Для выполнения задания пригодятся графики плотности, гистограммы и боксплоты."
   ]
  },
  {
   "cell_type": "code",
   "execution_count": 250,
   "metadata": {
    "pycharm": {
     "is_executing": false
    },
    "scrolled": true
   },
   "outputs": [
    {
     "data": {
      "image/png": "[encoded data removed]",
      "text/plain": [
       "<Figure size 432x288 with 1 Axes>"
      ]
     },
     "metadata": {
      "needs_background": "light"
     },
     "output_type": "display_data"
    }
   ],
   "source": [
    "h = df_no_repeat['G1'].hist()\n",
    "fig = h.get_figure()"
   ]
  },
  {
   "cell_type": "code",
   "execution_count": 251,
   "metadata": {},
   "outputs": [
    {
     "data": {
      "image/png": "[encoded data removed]",
      "text/plain": [
       "<Figure size 432x288 with 1 Axes>"
      ]
     },
     "metadata": {
      "needs_background": "light"
     },
     "output_type": "display_data"
    }
   ],
   "source": [
    "h = df_no_repeat['G2'].hist(color = 'green')\n",
    "fig = h.get_figure()"
   ]
  },
  {
   "cell_type": "code",
   "execution_count": 252,
   "metadata": {},
   "outputs": [
    {
     "data": {
      "image/png": "[encoded data removed]",
      "text/plain": [
       "<Figure size 432x288 with 1 Axes>"
      ]
     },
     "metadata": {
      "needs_background": "light"
     },
     "output_type": "display_data"
    }
   ],
   "source": [
    "h = df_no_repeat['G3'].hist(color = 'pink')\n",
    "fig = h.get_figure()"
   ]
  },
  {
   "cell_type": "code",
   "execution_count": 253,
   "metadata": {},
   "outputs": [],
   "source": [
    "def print_plot(m_num: str):\n",
    "    g1_math = df_no_repeat.loc[(data['Subject'] == 'Math')][m_num]\n",
    "    g1_por = df_no_repeat.loc[(data['Subject'] == 'Por')][m_num]\n",
    "\n",
    "    fig = plt.figure(figsize=(15,8),)\n",
    "    ax=sns.kdeplot(g1_math, color='gray',shade=True,label='math')\n",
    "    ax=sns.kdeplot(g1_por, color='green',shade=True, label='portugal')\n",
    "    plt.title(f'Marks({m_num}) Distribution Math vs Portugal', fontsize = 25, pad = 40)\n",
    "    plt.ylabel(\"Frequency\", fontsize = 15, labelpad = 20)\n",
    "    plt.xlabel(f\"Marks({m_num})\", fontsize = 15, labelpad = 20)\n",
    "    plt.legend(fontsize = 15)\n",
    "    plt.show()"
   ]
  },
  {
   "cell_type": "code",
   "execution_count": 254,
   "metadata": {},
   "outputs": [
    {
     "data": {
      "image/png": "[encoded data removed]",
      "text/plain": [
       "<Figure size 1080x576 with 1 Axes>"
      ]
     },
     "metadata": {
      "needs_background": "light"
     },
     "output_type": "display_data"
    }
   ],
   "source": [
    "print_plot(\"G1\")"
   ]
  },
  {
   "cell_type": "markdown",
   "metadata": {},
   "source": [
    "Выводы: наиболее частая оценка за первое полугодие среди студентов на курсе португальского составляет примерно 11, у \"математиков\" - примерно 10-11, чуть-чуть поменьше. Не удовлетворительные оценки (от 0 до 8) получали чаще \"математики\", от 8 до 15 - \"португальцы\", от 15 до 20 - опять с математического курса."
   ]
  },
  {
   "cell_type": "code",
   "execution_count": 255,
   "metadata": {},
   "outputs": [
    {
     "data": {
      "image/png": "[encoded data removed]",
      "text/plain": [
       "<Figure size 1080x576 with 1 Axes>"
      ]
     },
     "metadata": {
      "needs_background": "light"
     },
     "output_type": "display_data"
    }
   ],
   "source": [
    "print_plot(\"G2\")"
   ]
  },
  {
   "cell_type": "markdown",
   "metadata": {},
   "source": [
    "Выводы: наиболее частая оценка за второе полугодие среди студентов на курсе португальского составляет примерно 11-12, у \"математиков\" - примерно 9-10. Оценки от 0 до 9 получали чаще \"математики\", от 9 до 14 - \"португальцы\", от 14 до 20 примерно одинаковое количесво человек с двух курсов. Примечательно, что оценку 0 ровно во втором полугодии получило больше человек по сравнению с первым."
   ]
  },
  {
   "cell_type": "code",
   "execution_count": 256,
   "metadata": {},
   "outputs": [
    {
     "data": {
      "image/png": "[encoded data removed]",
      "text/plain": [
       "<Figure size 1080x576 with 1 Axes>"
      ]
     },
     "metadata": {
      "needs_background": "light"
     },
     "output_type": "display_data"
    }
   ],
   "source": [
    "print_plot(\"G3\")"
   ]
  },
  {
   "cell_type": "markdown",
   "metadata": {},
   "source": [
    "Выводы: наиболее частая итоговая оценка среди студентов на курсе португальского составляет 11, у \"математиков\" - примерно 10-11, чуть поменьше. Оценки от 0 до 9 получали чаще \"математики\", от 9 до 18 - \"португальцы\", от 18 до 20 - опять с математического курса. Примечательно, что оценка 0 ровно является довольно популярной среди студентов, особенно \"математиков\"."
   ]
  },
  {
   "cell_type": "markdown",
   "metadata": {},
   "source": [
    "### Задание 6 \n",
    "  \n",
    "Оцените попарные зависимости числовых признаков.  \n",
    "Рассчитайте и провизуализируйте матрицу корреляций. Дайте содержательный комментарий."
   ]
  },
  {
   "cell_type": "code",
   "execution_count": 257,
   "metadata": {
    "pycharm": {
     "is_executing": false
    }
   },
   "outputs": [
    {
     "data": {
      "image/png": "[encoded data removed]",
      "text/plain": [
       "<Figure size 1008x864 with 2 Axes>"
      ]
     },
     "metadata": {
      "needs_background": "light"
     },
     "output_type": "display_data"
    }
   ],
   "source": [
    "d_num = pd.DataFrame({})\n",
    "d_num['age'] = df_no_repeat['age']\n",
    "d_num['absences'] = df_no_repeat['absences']\n",
    "d_num['G1'] = df_no_repeat['G1']\n",
    "d_num['G2'] = df_no_repeat['G2']\n",
    "d_num['G3'] =df_no_repeat['G3']\n",
    "\n",
    "def correlation_heatmap(df):\n",
    "    _ , ax = plt.subplots(figsize =(14, 12))\n",
    "    colormap = sns.diverging_palette(220, 10, as_cmap = True)\n",
    "    \n",
    "    _ = sns.heatmap(\n",
    "        df.corr(), \n",
    "        cmap = colormap,\n",
    "        square=True, \n",
    "        cbar_kws={'shrink':.9 }, \n",
    "        ax=ax,\n",
    "        annot=True, \n",
    "        linewidths=0.1,vmax=1.0, linecolor='white',\n",
    "        annot_kws={'fontsize':12 }\n",
    "    )\n",
    "    plt.ylim((d_num.corr().shape[0], 0))\n",
    "    plt.title('Pearson Correlation of Features', size=25)\n",
    "\n",
    "correlation_heatmap(d_num)"
   ]
  },
  {
   "cell_type": "markdown",
   "metadata": {},
   "source": [
    "Признаки, на пересечении которых находится красный квадрат, - взаимосвязаны, и можно предсказать поведение одного через другой.\n",
    "Близкий к нулю коэффициент(голубые квадраты) корреляции же говорит о практически независимости данных признаков.\n",
    "В данном случае четко показано, что, например, итоговая оценка зависит от оценок за первое и второе полугодия."
   ]
  },
  {
   "cell_type": "markdown",
   "metadata": {},
   "source": [
    "### Задание 7  \n",
    "  \n",
    "Оцените попарные зависимости нечисловых (категориальных) признаков, дайте содержательный комментарий. "
   ]
  },
  {
   "cell_type": "code",
   "execution_count": 258,
   "metadata": {
    "pycharm": {
     "is_executing": false
    }
   },
   "outputs": [
    {
     "data": {
      "text/plain": [
       "<AxesSubplot:>"
      ]
     },
     "execution_count": 258,
     "metadata": {},
     "output_type": "execute_result"
    },
    {
     "data": {
      "image/png": "[encoded data removed]",
      "text/plain": [
       "<Figure size 1440x1080 with 2 Axes>"
      ]
     },
     "metadata": {
      "needs_background": "light"
     },
     "output_type": "display_data"
    }
   ],
   "source": [
    "data_describe = df_no_repeat.describe(include=[object])\n",
    "categorical_columns = [c for c in df_no_repeat.columns if df_no_repeat[c].dtype.name == 'object']\n",
    "\n",
    "non_data = pd.DataFrame(df_no_repeat[categorical_columns])\n",
    "\n",
    "for c in categorical_columns:\n",
    "    q = range(1, 1 + non_data[c].describe(include=[object])['unique'])\n",
    "    unique = dict(zip(non_data[c].unique(), q))\n",
    "    tmp = non_data[c].values.tolist()\n",
    "    if (q[-1] == 2) & ((tmp[0] == 'no') | (tmp[0] == 'yes')):\n",
    "        yes_no = {'yes': 1, 'no': 0}\n",
    "        non_data[c] = df_no_repeat[c].map(yes_no)\n",
    "    else:\n",
    "        for i in range(len(tmp)):\n",
    "            tmp[i] = unique[tmp[i]]\n",
    "        non_data[c] = pd.DataFrame(tmp)\n",
    "\n",
    "non_data[['traveltime', 'studytime', 'failures', 'famrel','freetime', \n",
    "          'goout', 'Dalc', 'Walc']] = df_no_repeat[['traveltime', \n",
    "        'studytime', 'failures', 'famrel','freetime','goout', 'Dalc', 'Walc']]\n",
    "\n",
    "corr = non_data.corr()\n",
    "plt.figure(figsize = (20,15))\n",
    "sns.heatmap(corr, xticklabels=corr.columns.values, yticklabels=corr.columns.values, cmap = 'Blues')"
   ]
  },
  {
   "cell_type": "markdown",
   "metadata": {},
   "source": [
    "Признаки, на пересечении которых находится синий квадрат более темного цвета, - взаимосвязаны, и можно предсказать поведение одного через другой. Близкий к нулю коэффициент(светло-голубые квадраты) корреляции же говорит о практически независимости данных признаков. В данном случае четко показано, что, например, образование матери коррелирует с образованием отца, употребление алкоголя в будни коррелирует с употреблением алкоголя в выходные, адрес со школой, свободное время с гулянками, все как в жизни."
   ]
  },
  {
   "cell_type": "markdown",
   "metadata": {},
   "source": [
    "### Задание  8  \n",
    "  \n",
    "* Оцените, есть ли разница в употреблении алкоголя между парнями и девушками. Кто пьет больше?\n",
    "* Оцените связь употребления алкоголя с признаками: address, Pstatus, higher, romantic, freetime. \n",
    "* Оцените связь употребления алкоголя с уровнем образования опекуна (для случаев, где это известно).\n",
    "* Сравните употребление алкоголя для 50 лучших учеников и 50 худших (по `G3`). Выполните сравнение отдельно для каждого предмета (`Math` и `Por`). Дайте содержательный комментарий.  \n",
    "  \n",
    "**Tip:** для выполнения задания пригодятся боксплоты и гистограммы. "
   ]
  },
  {
   "cell_type": "markdown",
   "metadata": {},
   "source": [
    "### Задание 8.1\n",
    "Оцените, есть ли разница в употреблении алкоголя между парнями и девушками. Кто пьет больше?"
   ]
  },
  {
   "cell_type": "code",
   "execution_count": 304,
   "metadata": {
    "pycharm": {
     "is_executing": false
    }
   },
   "outputs": [
    {
     "data": {
      "text/plain": [
       "<AxesSubplot:xlabel='sex', ylabel='count'>"
      ]
     },
     "execution_count": 304,
     "metadata": {},
     "output_type": "execute_result"
    },
    {
     "data": {
      "image/png": "[encoded data removed]",
      "text/plain": [
       "<Figure size 720x432 with 1 Axes>"
      ]
     },
     "metadata": {
      "needs_background": "light"
     },
     "output_type": "display_data"
    }
   ],
   "source": [
    "sum_arr = []\n",
    "for i in df_no_repeat.index:\n",
    "    sum_arr.append((df_no_repeat['Walc'][i] + df_no_repeat['Dalc'][i]))\n",
    "\n",
    "df_no_repeat['sum_alc'] = sum_arr\n",
    "\n",
    "plt.figure(figsize=(10,6))\n",
    "sns.countplot(x='sex', hue='sum_alc', data=df_no_repeat)"
   ]
  },
  {
   "cell_type": "markdown",
   "metadata": {},
   "source": [
    "Очевидно, что девушки в большинстве пьют мало (метка 2 за неделю, то есть очень мало по выходным и будням). Представители мужского пола же исключительно имеют метку 10, и в метках от 7 до 10 они имеют более высокие показатели.\n",
    "\n",
    "Ответ: мужчины"
   ]
  },
  {
   "cell_type": "markdown",
   "metadata": {},
   "source": [
    "### Задание 8.2\n",
    "Оцените связь употребления алкоголя с признаками: address, Pstatus, higher, romantic, freetime. "
   ]
  },
  {
   "cell_type": "code",
   "execution_count": 260,
   "metadata": {},
   "outputs": [
    {
     "data": {
      "image/png": "[encoded data removed]",
      "text/plain": [
       "<Figure size 1440x576 with 5 Axes>"
      ]
     },
     "metadata": {
      "needs_background": "light"
     },
     "output_type": "display_data"
    }
   ],
   "source": [
    "plt.figure(figsize=(20, 8))\n",
    "pl.subplot (2, 5, 1)\n",
    "sns.barplot(data=df_no_repeat, y='sum_alc', x='address', estimator=np.mean)\n",
    "pl.subplot (2, 5, 2)\n",
    "sns.barplot(data=df_no_repeat, y='sum_alc', x='Pstatus', estimator=np.mean)\n",
    "pl.subplot (2, 5, 3)\n",
    "sns.barplot(data=df_no_repeat, y='sum_alc', x='romantic', estimator=np.mean)\n",
    "pl.subplot (2, 5, 4)\n",
    "sns.barplot(data=df_no_repeat, y='sum_alc', x='higher', estimator=np.mean)\n",
    "pl.subplot (2, 5, 5)\n",
    "sns.barplot(data=df_no_repeat, y='sum_alc', x='freetime', estimator=np.mean)\n",
    "plt.show()"
   ]
  },
  {
   "cell_type": "markdown",
   "metadata": {},
   "source": [
    "Больше пьют те, кто: \n",
    "живут загородом, \n",
    "у которых родители живут вместе, \n",
    "не собираются получать высшее образование,\n",
    "имеют свободное время.\n",
    "\n",
    "А вот романтические отношения практически не влияют на употребление алкоголя."
   ]
  },
  {
   "cell_type": "markdown",
   "metadata": {},
   "source": [
    "### Задание 8.3\n",
    "Оцените связь употребления алкоголя с уровнем образования опекуна (для случаев, где это известно)."
   ]
  },
  {
   "cell_type": "code",
   "execution_count": 261,
   "metadata": {},
   "outputs": [
    {
     "data": {
      "image/png": "[encoded data removed]",
      "text/plain": [
       "<Figure size 1440x1080 with 2 Axes>"
      ]
     },
     "metadata": {
      "needs_background": "light"
     },
     "output_type": "display_data"
    }
   ],
   "source": [
    "plt.figure(figsize=(20, 15))\n",
    "pl.subplot (2, 2, 1)\n",
    "sns.boxplot(x='Medu', y='sum_alc', data=df_no_repeat)\n",
    "pl.subplot (2, 2, 2)\n",
    "sns.boxplot(x='Fedu', y='sum_alc', data=df_no_repeat)\n",
    "plt.show()"
   ]
  },
  {
   "cell_type": "markdown",
   "metadata": {},
   "source": [
    "Отцы употреляют алкоголь примерно одинаково внезаивисимости от образования, в то время, как матери, чем более образованы, тем меньше употребляют."
   ]
  },
  {
   "cell_type": "markdown",
   "metadata": {},
   "source": [
    "### Задание 8.4\n",
    "Сравните употребление алкоголя для 50 лучших учеников и 50 худших (по G3). Выполните сравнение отдельно для каждого предмета (Math и Por). Дайте содержательный комментарий. "
   ]
  },
  {
   "cell_type": "code",
   "execution_count": 311,
   "metadata": {},
   "outputs": [
    {
     "data": {
      "image/png": "[encoded data removed]",
      "text/plain": [
       "<Figure size 432x288 with 1 Axes>"
      ]
     },
     "metadata": {
      "needs_background": "light"
     },
     "output_type": "display_data"
    }
   ],
   "source": [
    "\n",
    "x = [df_no_repeat.nlargest(50, 'G3')['sum_alc'].mean(),\n",
    "     df_no_repeat[df_no_repeat['Subject'] == 'Math'].nlargest(50,'G3').sum_alc.mean(),\n",
    "     df_no_repeat[df_no_repeat['Subject'] == 'Por'].nlargest(50,'G3').sum_alc.mean()]\n",
    "\n",
    "y = [df_no_repeat.nsmallest(50, 'G3')['sum_alc'].mean(),\n",
    "     df_no_repeat[df_no_repeat['Subject'] == 'Math'].nsmallest(50,'G3').sum_alc.mean(),\n",
    "     df_no_repeat[df_no_repeat['Subject'] == 'Por'].nsmallest(50,'G3').sum_alc.mean()]\n",
    "\n",
    "plt.bar([1.9, 2.9, 3.9], x, width=0.2)\n",
    "plt.bar([2.1, 3.1, 4.1], y, width=0.2, tick_label='worst', label=\"Por\")\n",
    "plt.show()"
   ]
  },
  {
   "cell_type": "markdown",
   "metadata": {},
   "source": [
    "Из графика видна прямая зависимость - те, кто хуже учаться - больше употреляют алкоголя. При этом, те, кто учаться на португальском плохо - употребляют неприлично много."
   ]
  },
  {
   "cell_type": "markdown",
   "metadata": {},
   "source": [
    "### Задание 9     \n",
    "  \n",
    "Оцените зависимость итоговой оценки от следующих признаков: \n",
    "  \n",
    "* Пола\n",
    "* Времени в пути от дома до школы\n",
    "* Наличия дополнительной помощи в учебе (от членов семьи или вообще)\n",
    "* Посещения платных дополнительных занятий\n",
    "* Наличия интернета\n",
    "* Наличия романтических отношений\n",
    "* Употребления алкоголя  "
   ]
  },
  {
   "cell_type": "code",
   "execution_count": 262,
   "metadata": {
    "pycharm": {
     "is_executing": false
    }
   },
   "outputs": [
    {
     "name": "stderr",
     "output_type": "stream",
     "text": [
      "/home/victor/PycharmProjects/IAD_lab_1/venv/lib/python3.8/site-packages/pandas/core/frame.py:3191: SettingWithCopyWarning: \n",
      "A value is trying to be set on a copy of a slice from a DataFrame.\n",
      "Try using .loc[row_indexer,col_indexer] = value instead\n",
      "\n",
      "See the caveats in the documentation: https://pandas.pydata.org/pandas-docs/stable/user_guide/indexing.html#returning-a-view-versus-a-copy\n",
      "  self[k1] = value[k2]\n"
     ]
    },
    {
     "data": {
      "text/plain": [
       "<AxesSubplot:>"
      ]
     },
     "execution_count": 262,
     "metadata": {},
     "output_type": "execute_result"
    },
    {
     "data": {
      "image/png": "[encoded data removed]",
      "text/plain": [
       "<Figure size 1440x1080 with 2 Axes>"
      ]
     },
     "metadata": {
      "needs_background": "light"
     },
     "output_type": "display_data"
    }
   ],
   "source": [
    "data_for_8 = df_no_repeat[['traveltime', 'Dalc', 'Walc', 'G1', 'G2', 'G3', 'paid', 'famsup', 'romantic', 'internet']]\n",
    "\n",
    "data_for_8[[\"sex\"]] = non_data[[\"sex\"]]\n",
    "\n",
    "corr = data_for_8.corr()\n",
    "plt.figure(figsize=(20, 15))\n",
    "sns.heatmap(corr, \n",
    "            xticklabels=corr.columns.values, \n",
    "            yticklabels=corr.columns.values)"
   ]
  },
  {
   "cell_type": "markdown",
   "metadata": {},
   "source": [
    "### Задание 10  \n",
    "  \n",
    "Добавьте в данные новый признак - итоговая оценка по 4-х балльной шкале:  \n",
    "\n",
    "* Отлично: 18 <= `G3` <= 20\n",
    "* Хорошо: 14 <= `G3` <= 17\n",
    "* Удовлетворительно: 8 <= `G3` <= 13\n",
    "* Неудовлетворительно: `G3` < 8  \n",
    "  \n",
    "Оцените распределение нового признака в зависимости от признака `reason` (причина выбора школы). Дайте содержательный комментарий. "
   ]
  },
  {
   "cell_type": "code",
   "execution_count": 263,
   "metadata": {
    "pycharm": {
     "is_executing": false
    }
   },
   "outputs": [
    {
     "data": {
      "text/plain": [
       "<AxesSubplot:xlabel='reason', ylabel='4score-G3'>"
      ]
     },
     "execution_count": 263,
     "metadata": {},
     "output_type": "execute_result"
    },
    {
     "data": {
      "image/png": "[encoded data removed]",
      "text/plain": [
       "<Figure size 432x288 with 1 Axes>"
      ]
     },
     "metadata": {
      "needs_background": "light"
     },
     "output_type": "display_data"
    }
   ],
   "source": [
    "def rule(g):\n",
    "  if 18 <= g <= 20 :\n",
    "    return 4\n",
    "  elif 14 <= g <= 17:\n",
    "    return 3\n",
    "  elif 8 <= g <= 13:\n",
    "    return 2\n",
    "  else:\n",
    "    return 1\n",
    "df = data['G3']\n",
    "data['4score-G3'] = df.map(rule)\n",
    "sns.barplot(data=data, y=\"4score-G3\", x=\"reason\")"
   ]
  },
  {
   "cell_type": "markdown",
   "metadata": {},
   "source": [
    "Итоговая оценка выше у тех, кто выбирал школу по репутации."
   ]
  },
  {
   "cell_type": "markdown",
   "metadata": {},
   "source": [
    "### Задание  11 <a id=\"task11\"></a>  \n",
    "  \n",
    "Часть из представленных в данных студентов посещали оба курса - `Math` и `Por`.  \n",
    "* Предложите способ идентификации студентов и определите тех, кто посещал оба курса. Сколько таких студентов?  \n",
    "* Для этих студентов сравните оценки по двум предметам, дайте комментарий.  \n",
    "  \n",
    "**Note:** Столбец `ID` является уникальным идентификатором наблюдения, но не студента. Он будет уникален для каждой строки."
   ]
  },
  {
   "cell_type": "code",
   "execution_count": 294,
   "metadata": {
    "pycharm": {
     "is_executing": false
    }
   },
   "outputs": [
    {
     "name": "stdout",
     "output_type": "stream",
     "text": [
      "Cтудентов посещающих два курса =  29\n"
     ]
    },
    {
     "data": {
      "image/png": "[encoded data removed]",
      "text/plain": [
       "<Figure size 432x288 with 1 Axes>"
      ]
     },
     "metadata": {
      "needs_background": "light"
     },
     "output_type": "display_data"
    }
   ],
   "source": [
    "d = data.copy(deep=True)\n",
    "\n",
    "del d[\"ID\"]\n",
    "del d[\"4score-G3\"]\n",
    "\n",
    "unic = pd.concat([d, df_no_repeat]).drop_duplicates(keep=False)\n",
    "print(\"Cтудентов посещающих два курса = \", len(unic))\n",
    "\n",
    "por = unic.loc[unic['Subject']=='Por', ['G1', 'G2', 'G3']]\n",
    "math[[\"G1_M\", \"G2_M\", \"G3_M\"]] = unic.loc[unic['Subject']=='Math', ['G1', 'G2', 'G3']]\n",
    "\n",
    "x = [unic.loc[unic['Subject'] == 'Por']['G1'].mean(),\n",
    "     unic.loc[unic['Subject'] == 'Por']['G2'].mean(),\n",
    "      unic.loc[unic['Subject'] == 'Por']['G3'].mean()]\n",
    "y = [unic.loc[unic['Subject'] == 'Math']['G1'].mean(),\n",
    "      unic.loc[unic['Subject'] == 'Math']['G2'].mean(),\n",
    "      unic.loc[unic['Subject'] == 'Math']['G3'].mean()]\n",
    "plt.bar([1.9, 2.9, 3.9], x, width=0.2, tick_label='Por')\n",
    "plt.bar([2.1, 3.1, 4.1], y, width=0.2, tick_label='Math')\n",
    "plt.show()"
   ]
  },
  {
   "cell_type": "markdown",
   "metadata": {},
   "source": [
    "как видно из данной диаграммы, оценки по языку в течении семестров не меняются, \n",
    "тогда как оценки по математике существенно снижаются по временному промежутку,\n",
    "хотя и изначально были ниже, чем оценки по языку"
   ]
  },
  {
   "cell_type": "markdown",
   "metadata": {},
   "source": [
    "### Задание 12  \n",
    "  \n",
    "Предложите простую модель для определения (предсказания) итоговой оценки студента по 4-х балльной системе. Оцените точность предложенной модели. "
   ]
  },
  {
   "cell_type": "code",
   "execution_count": 297,
   "metadata": {
    "pycharm": {
     "is_executing": false
    }
   },
   "outputs": [
    {
     "data": {
      "text/plain": [
       "0.5"
      ]
     },
     "execution_count": 297,
     "metadata": {},
     "output_type": "execute_result"
    }
   ],
   "source": [
    "from sklearn.model_selection import train_test_split\n",
    "from sklearn.ensemble import RandomForestClassifier\n",
    "non_data['4score-G3'] = data[\"4score-G3\"]\n",
    "non_data.fillna(non_data.mean(), inplace=True)\n",
    "\n",
    "df = non_data\n",
    "target = df['4score-G3']\n",
    "gen_data = df.drop(['4score-G3'], axis=1)\n",
    "\n",
    "rf = RandomForestClassifier(n_estimators=100)\n",
    "x_train, x_test, y_train, y_test = train_test_split(gen_data, target, test_size=0.2, random_state=4)\n",
    "md_trained1 = rf.fit(x_train, y_train)\n",
    "res = md_trained1.predict(x_test)\n",
    "\n",
    "# mean square error\n",
    "\n",
    "round(np.mean((res-y_test)**2), 2)\n"
   ]
  },
  {
   "cell_type": "markdown",
   "metadata": {},
   "source": [
    "### Вывод:\n",
    "\n",
    "Создали и натренировали модель RandomForest, которая справляется с вероятность 50%."
   ]
  },
  {
   "cell_type": "markdown",
   "metadata": {},
   "source": [
    "### Задание * (бонусное)  \n",
    "  \n",
    "Дополнительное исследование данных и выводы положительно скажутся на оценке. "
   ]
  },
  {
   "cell_type": "code",
   "execution_count": 280,
   "metadata": {
    "pycharm": {
     "is_executing": false
    }
   },
   "outputs": [],
   "source": [
    "# your code here"
   ]
  }
 ],
 "metadata": {
  "kernelspec": {
   "display_name": "Python 3",
   "language": "python",
   "name": "python3"
  },
  "language_info": {
   "codemirror_mode": {
    "name": "ipython",
    "version": 3
   },
   "file_extension": ".py",
   "mimetype": "text/x-python",
   "name": "python",
   "nbconvert_exporter": "python",
   "pygments_lexer": "ipython3",
   "version": "3.8.5"
  },
  "pycharm": {
   "stem_cell": {
    "cell_type": "raw",
    "metadata": {
     "collapsed": false
    },
    "source": []
   }
  }
 },
 "nbformat": 4,
 "nbformat_minor": 1
}
